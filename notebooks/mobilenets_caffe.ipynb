{
 "cells": [
  {
   "cell_type": "markdown",
   "metadata": {},
   "source": [
    "# Explore the Caffe Model checkpoint!\n",
    "Let's get the stuff converted!"
   ]
  },
  {
   "cell_type": "code",
   "execution_count": 2,
   "metadata": {
    "collapsed": true
   },
   "outputs": [],
   "source": [
    "from pprint import pprint\n",
    "\n",
    "import caffe\n",
    "import numpy as np\n",
    "from caffe.proto import caffe_pb2\n",
    "\n"
   ]
  },
  {
   "cell_type": "code",
   "execution_count": 3,
   "metadata": {
    "collapsed": true
   },
   "outputs": [],
   "source": [
    "caffe_filename = '../checkpoints/mobilenet.caffemodel'\n",
    "\n",
    "caffemodel_params = caffe_pb2.NetParameter()\n",
    "caffemodel_str = open(caffe_filename, 'rb').read()\n",
    "caffemodel_params.ParseFromString(caffemodel_str)"
   ]
  },
  {
   "cell_type": "code",
   "execution_count": 4,
   "metadata": {},
   "outputs": [
    {
     "name": "stdout",
     "output_type": "stream",
     "text": [
      "[(0, 'data', 'ImageData', 0),\n",
      " (1, 'label_data_1_split', 'Split', 0),\n",
      " (2, 'conv1', 'Convolution', [32, 3, 3, 3]),\n",
      " (3, 'conv1/bn', 'BatchNorm', [32]),\n",
      " (4, 'conv1/scale', 'Scale', [32]),\n",
      " (5, 'relu1', 'ReLU', 0),\n",
      " (6, 'conv2_1/dw', 'Convolution', [32, 1, 3, 3]),\n",
      " (7, 'conv2_1/dw/bn', 'BatchNorm', [32]),\n",
      " (8, 'conv2_1/dw/scale', 'Scale', [32]),\n",
      " (9, 'relu2_1/dw', 'ReLU', 0),\n",
      " (10, 'conv2_1/sep', 'Convolution', [64, 32, 1, 1]),\n",
      " (11, 'conv2_1/sep/bn', 'BatchNorm', [64]),\n",
      " (12, 'conv2_1/sep/scale', 'Scale', [64]),\n",
      " (13, 'relu2_1/sep', 'ReLU', 0),\n",
      " (14, 'conv2_2/dw', 'Convolution', [64, 1, 3, 3]),\n",
      " (15, 'conv2_2/dw/bn', 'BatchNorm', [64]),\n",
      " (16, 'conv2_2/dw/scale', 'Scale', [64]),\n",
      " (17, 'relu2_2/dw', 'ReLU', 0),\n",
      " (18, 'conv2_2/sep', 'Convolution', [128, 64, 1, 1]),\n",
      " (19, 'conv2_2/sep/bn', 'BatchNorm', [128]),\n",
      " (20, 'conv2_2/sep/scale', 'Scale', [128]),\n",
      " (21, 'relu2_2/sep', 'ReLU', 0),\n",
      " (22, 'conv3_1/dw', 'Convolution', [128, 1, 3, 3]),\n",
      " (23, 'conv3_1/dw/bn', 'BatchNorm', [128]),\n",
      " (24, 'conv3_1/dw/scale', 'Scale', [128]),\n",
      " (25, 'relu3_1/dw', 'ReLU', 0),\n",
      " (26, 'conv3_1/sep', 'Convolution', [128, 128, 1, 1]),\n",
      " (27, 'conv3_1/sep/bn', 'BatchNorm', [128]),\n",
      " (28, 'conv3_1/sep/scale', 'Scale', [128]),\n",
      " (29, 'relu3_1/sep', 'ReLU', 0),\n",
      " (30, 'conv3_2/dw', 'Convolution', [128, 1, 3, 3]),\n",
      " (31, 'conv3_2/dw/bn', 'BatchNorm', [128]),\n",
      " (32, 'conv3_2/dw/scale', 'Scale', [128]),\n",
      " (33, 'relu3_2/dw', 'ReLU', 0),\n",
      " (34, 'conv3_2/sep', 'Convolution', [256, 128, 1, 1]),\n",
      " (35, 'conv3_2/sep/bn', 'BatchNorm', [256]),\n",
      " (36, 'conv3_2/sep/scale', 'Scale', [256]),\n",
      " (37, 'relu3_2/sep', 'ReLU', 0),\n",
      " (38, 'conv4_1/dw', 'Convolution', [256, 1, 3, 3]),\n",
      " (39, 'conv4_1/dw/bn', 'BatchNorm', [256]),\n",
      " (40, 'conv4_1/dw/scale', 'Scale', [256]),\n",
      " (41, 'relu4_1/dw', 'ReLU', 0),\n",
      " (42, 'conv4_1/sep', 'Convolution', [256, 256, 1, 1]),\n",
      " (43, 'conv4_1/sep/bn', 'BatchNorm', [256]),\n",
      " (44, 'conv4_1/sep/scale', 'Scale', [256]),\n",
      " (45, 'relu4_1/sep', 'ReLU', 0),\n",
      " (46, 'conv4_2/dw', 'Convolution', [256, 1, 3, 3]),\n",
      " (47, 'conv4_2/dw/bn', 'BatchNorm', [256]),\n",
      " (48, 'conv4_2/dw/scale', 'Scale', [256]),\n",
      " (49, 'relu4_2/dw', 'ReLU', 0),\n",
      " (50, 'conv4_2/sep', 'Convolution', [512, 256, 1, 1]),\n",
      " (51, 'conv4_2/sep/bn', 'BatchNorm', [512]),\n",
      " (52, 'conv4_2/sep/scale', 'Scale', [512]),\n",
      " (53, 'relu4_2/sep', 'ReLU', 0),\n",
      " (54, 'conv5_1/dw', 'Convolution', [512, 1, 3, 3]),\n",
      " (55, 'conv5_1/dw/bn', 'BatchNorm', [512]),\n",
      " (56, 'conv5_1/dw/scale', 'Scale', [512]),\n",
      " (57, 'relu5_1/dw', 'ReLU', 0),\n",
      " (58, 'conv5_1/sep', 'Convolution', [512, 512, 1, 1]),\n",
      " (59, 'conv5_1/sep/bn', 'BatchNorm', [512]),\n",
      " (60, 'conv5_1/sep/scale', 'Scale', [512]),\n",
      " (61, 'relu5_1/sep', 'ReLU', 0),\n",
      " (62, 'conv5_2/dw', 'Convolution', [512, 1, 3, 3]),\n",
      " (63, 'conv5_2/dw/bn', 'BatchNorm', [512]),\n",
      " (64, 'conv5_2/dw/scale', 'Scale', [512]),\n",
      " (65, 'relu5_2/dw', 'ReLU', 0),\n",
      " (66, 'conv5_2/sep', 'Convolution', [512, 512, 1, 1]),\n",
      " (67, 'conv5_2/sep/bn', 'BatchNorm', [512]),\n",
      " (68, 'conv5_2/sep/scale', 'Scale', [512]),\n",
      " (69, 'relu5_2/sep', 'ReLU', 0),\n",
      " (70, 'conv5_3/dw', 'Convolution', [512, 1, 3, 3]),\n",
      " (71, 'conv5_3/dw/bn', 'BatchNorm', [512]),\n",
      " (72, 'conv5_3/dw/scale', 'Scale', [512]),\n",
      " (73, 'relu5_3/dw', 'ReLU', 0),\n",
      " (74, 'conv5_3/sep', 'Convolution', [512, 512, 1, 1]),\n",
      " (75, 'conv5_3/sep/bn', 'BatchNorm', [512]),\n",
      " (76, 'conv5_3/sep/scale', 'Scale', [512]),\n",
      " (77, 'relu5_3/sep', 'ReLU', 0),\n",
      " (78, 'conv5_4/dw', 'Convolution', [512, 1, 3, 3]),\n",
      " (79, 'conv5_4/dw/bn', 'BatchNorm', [512]),\n",
      " (80, 'conv5_4/dw/scale', 'Scale', [512]),\n",
      " (81, 'relu5_4/dw', 'ReLU', 0),\n",
      " (82, 'conv5_4/sep', 'Convolution', [512, 512, 1, 1]),\n",
      " (83, 'conv5_4/sep/bn', 'BatchNorm', [512]),\n",
      " (84, 'conv5_4/sep/scale', 'Scale', [512]),\n",
      " (85, 'relu5_4/sep', 'ReLU', 0),\n",
      " (86, 'conv5_5/dw', 'Convolution', [512, 1, 3, 3]),\n",
      " (87, 'conv5_5/dw/bn', 'BatchNorm', [512]),\n",
      " (88, 'conv5_5/dw/scale', 'Scale', [512]),\n",
      " (89, 'relu5_5/dw', 'ReLU', 0),\n",
      " (90, 'conv5_5/sep', 'Convolution', [512, 512, 1, 1]),\n",
      " (91, 'conv5_5/sep/bn', 'BatchNorm', [512]),\n",
      " (92, 'conv5_5/sep/scale', 'Scale', [512]),\n",
      " (93, 'relu5_5/sep', 'ReLU', 0),\n",
      " (94, 'conv5_6/dw', 'Convolution', [512, 1, 3, 3]),\n",
      " (95, 'conv5_6/dw/bn', 'BatchNorm', [512]),\n",
      " (96, 'conv5_6/dw/scale', 'Scale', [512]),\n",
      " (97, 'relu5_6/dw', 'ReLU', 0),\n",
      " (98, 'conv5_6/sep', 'Convolution', [1024, 512, 1, 1]),\n",
      " (99, 'conv5_6/sep/bn', 'BatchNorm', [1024]),\n",
      " (100, 'conv5_6/sep/scale', 'Scale', [1024]),\n",
      " (101, 'relu5_6/sep', 'ReLU', 0),\n",
      " (102, 'conv6/dw', 'Convolution', [1024, 1, 3, 3]),\n",
      " (103, 'conv6/dw/bn', 'BatchNorm', [1024]),\n",
      " (104, 'conv6/dw/scale', 'Scale', [1024]),\n",
      " (105, 'relu6/dw', 'ReLU', 0),\n",
      " (106, 'conv6/sep', 'Convolution', [1024, 1024, 1, 1]),\n",
      " (107, 'conv6/sep/bn', 'BatchNorm', [1024]),\n",
      " (108, 'conv6/sep/scale', 'Scale', [1024]),\n",
      " (109, 'relu6/sep', 'ReLU', 0),\n",
      " (110, 'pool6', 'Pooling', 0),\n",
      " (111, 'fc7', 'Convolution', [1000, 1024, 1, 1]),\n",
      " (112, 'fc7_fc7_0_split', 'Split', 0),\n",
      " (113, 'loss', 'SoftmaxWithLoss', 0),\n",
      " (114, 'top1/acc', 'Accuracy', 0),\n",
      " (115, 'top5/acc', 'Accuracy', 0)]\n"
     ]
    }
   ],
   "source": [
    "layers = caffemodel_params.layer\n",
    "names = [(i, l.name, l.type, l.blobs[0].shape.dim if len(l.blobs) else 0) for i, l in enumerate(layers)]\n",
    "pprint(names)"
   ]
  },
  {
   "cell_type": "code",
   "execution_count": 5,
   "metadata": {},
   "outputs": [
    {
     "name": "stdout",
     "output_type": "stream",
     "text": [
      "Convolution\n",
      "[32, 3, 3, 3] 1444\n"
     ]
    }
   ],
   "source": [
    "idx = 2\n",
    "layer = layers[idx]\n",
    "print(layer.type)\n",
    "a = np.array(layer.blobs[0].data)\n",
    "s = layer.blobs[0].shape.dim\n",
    "print(s, 38*38)"
   ]
  },
  {
   "cell_type": "code",
   "execution_count": null,
   "metadata": {
    "collapsed": true
   },
   "outputs": [],
   "source": []
  },
  {
   "cell_type": "markdown",
   "metadata": {},
   "source": [
    "# Try to get it converted...\n"
   ]
  },
  {
   "cell_type": "code",
   "execution_count": 7,
   "metadata": {},
   "outputs": [],
   "source": [
    "import tensorflow as tf\n",
    "\n",
    "isess = tf.InteractiveSession()"
   ]
  },
  {
   "cell_type": "code",
   "execution_count": null,
   "metadata": {
    "collapsed": true
   },
   "outputs": [],
   "source": []
  }
 ],
 "metadata": {
  "kernelspec": {
   "display_name": "Python [default]",
   "language": "python",
   "name": "python3"
  },
  "language_info": {
   "codemirror_mode": {
    "name": "ipython",
    "version": 3
   },
   "file_extension": ".py",
   "mimetype": "text/x-python",
   "name": "python",
   "nbconvert_exporter": "python",
   "pygments_lexer": "ipython3",
   "version": "3.5.3"
  }
 },
 "nbformat": 4,
 "nbformat_minor": 2
}
