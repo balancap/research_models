{
 "cells": [
  {
   "cell_type": "markdown",
   "metadata": {},
   "source": [
    "# Explore the Caffe Model checkpoint!\n",
    "Let's get the stuff converted!"
   ]
  },
  {
   "cell_type": "code",
   "execution_count": 4,
   "metadata": {},
   "outputs": [],
   "source": [
    "import os\n",
    "import math\n",
    "import copy\n",
    "import random\n",
    "from namedlist import namedlist\n",
    "\n",
    "import numpy as np\n",
    "import tensorflow as tf\n",
    "import cv2\n",
    "\n",
    "slim = tf.contrib.slim"
   ]
  },
  {
   "cell_type": "code",
   "execution_count": 5,
   "metadata": {
    "collapsed": true
   },
   "outputs": [],
   "source": [
    "import sys\n",
    "sys.path.append('../')"
   ]
  },
  {
   "cell_type": "code",
   "execution_count": 6,
   "metadata": {},
   "outputs": [],
   "source": [
    "from pprint import pprint\n",
    "\n",
    "import caffe\n",
    "import numpy as np\n",
    "from caffe.proto import caffe_pb2"
   ]
  },
  {
   "cell_type": "code",
   "execution_count": 7,
   "metadata": {
    "collapsed": true
   },
   "outputs": [],
   "source": [
    "caffe_filename = '../checkpoints/mobilenets.caffemodel'\n",
    "\n",
    "caffemodel_params = caffe_pb2.NetParameter()\n",
    "caffemodel_str = open(caffe_filename, 'rb').read()\n",
    "caffemodel_params.ParseFromString(caffemodel_str)"
   ]
  },
  {
   "cell_type": "code",
   "execution_count": 8,
   "metadata": {},
   "outputs": [
    {
     "name": "stdout",
     "output_type": "stream",
     "text": [
      "[(0, 'data', 'ImageData', 0, 0),\n",
      " (1, 'label_data_1_split', 'Split', 0, 0),\n",
      " (2, 'conv1', 'Convolution', 1, [32, 3, 3, 3]),\n",
      " (3, 'conv1/bn', 'BatchNorm', 3, [32]),\n",
      " (4, 'conv1/scale', 'Scale', 2, [32]),\n",
      " (5, 'relu1', 'ReLU', 0, 0),\n",
      " (6, 'conv2_1/dw', 'Convolution', 1, [32, 1, 3, 3]),\n",
      " (7, 'conv2_1/dw/bn', 'BatchNorm', 3, [32]),\n",
      " (8, 'conv2_1/dw/scale', 'Scale', 2, [32]),\n",
      " (9, 'relu2_1/dw', 'ReLU', 0, 0),\n",
      " (10, 'conv2_1/sep', 'Convolution', 1, [64, 32, 1, 1]),\n",
      " (11, 'conv2_1/sep/bn', 'BatchNorm', 3, [64]),\n",
      " (12, 'conv2_1/sep/scale', 'Scale', 2, [64]),\n",
      " (13, 'relu2_1/sep', 'ReLU', 0, 0),\n",
      " (14, 'conv2_2/dw', 'Convolution', 1, [64, 1, 3, 3]),\n",
      " (15, 'conv2_2/dw/bn', 'BatchNorm', 3, [64]),\n",
      " (16, 'conv2_2/dw/scale', 'Scale', 2, [64]),\n",
      " (17, 'relu2_2/dw', 'ReLU', 0, 0),\n",
      " (18, 'conv2_2/sep', 'Convolution', 1, [128, 64, 1, 1]),\n",
      " (19, 'conv2_2/sep/bn', 'BatchNorm', 3, [128]),\n",
      " (20, 'conv2_2/sep/scale', 'Scale', 2, [128]),\n",
      " (21, 'relu2_2/sep', 'ReLU', 0, 0),\n",
      " (22, 'conv3_1/dw', 'Convolution', 1, [128, 1, 3, 3]),\n",
      " (23, 'conv3_1/dw/bn', 'BatchNorm', 3, [128]),\n",
      " (24, 'conv3_1/dw/scale', 'Scale', 2, [128]),\n",
      " (25, 'relu3_1/dw', 'ReLU', 0, 0),\n",
      " (26, 'conv3_1/sep', 'Convolution', 1, [128, 128, 1, 1]),\n",
      " (27, 'conv3_1/sep/bn', 'BatchNorm', 3, [128]),\n",
      " (28, 'conv3_1/sep/scale', 'Scale', 2, [128]),\n",
      " (29, 'relu3_1/sep', 'ReLU', 0, 0),\n",
      " (30, 'conv3_2/dw', 'Convolution', 1, [128, 1, 3, 3]),\n",
      " (31, 'conv3_2/dw/bn', 'BatchNorm', 3, [128]),\n",
      " (32, 'conv3_2/dw/scale', 'Scale', 2, [128]),\n",
      " (33, 'relu3_2/dw', 'ReLU', 0, 0),\n",
      " (34, 'conv3_2/sep', 'Convolution', 1, [256, 128, 1, 1]),\n",
      " (35, 'conv3_2/sep/bn', 'BatchNorm', 3, [256]),\n",
      " (36, 'conv3_2/sep/scale', 'Scale', 2, [256]),\n",
      " (37, 'relu3_2/sep', 'ReLU', 0, 0),\n",
      " (38, 'conv4_1/dw', 'Convolution', 1, [256, 1, 3, 3]),\n",
      " (39, 'conv4_1/dw/bn', 'BatchNorm', 3, [256]),\n",
      " (40, 'conv4_1/dw/scale', 'Scale', 2, [256]),\n",
      " (41, 'relu4_1/dw', 'ReLU', 0, 0),\n",
      " (42, 'conv4_1/sep', 'Convolution', 1, [256, 256, 1, 1]),\n",
      " (43, 'conv4_1/sep/bn', 'BatchNorm', 3, [256]),\n",
      " (44, 'conv4_1/sep/scale', 'Scale', 2, [256]),\n",
      " (45, 'relu4_1/sep', 'ReLU', 0, 0),\n",
      " (46, 'conv4_2/dw', 'Convolution', 1, [256, 1, 3, 3]),\n",
      " (47, 'conv4_2/dw/bn', 'BatchNorm', 3, [256]),\n",
      " (48, 'conv4_2/dw/scale', 'Scale', 2, [256]),\n",
      " (49, 'relu4_2/dw', 'ReLU', 0, 0),\n",
      " (50, 'conv4_2/sep', 'Convolution', 1, [512, 256, 1, 1]),\n",
      " (51, 'conv4_2/sep/bn', 'BatchNorm', 3, [512]),\n",
      " (52, 'conv4_2/sep/scale', 'Scale', 2, [512]),\n",
      " (53, 'relu4_2/sep', 'ReLU', 0, 0),\n",
      " (54, 'conv5_1/dw', 'Convolution', 1, [512, 1, 3, 3]),\n",
      " (55, 'conv5_1/dw/bn', 'BatchNorm', 3, [512]),\n",
      " (56, 'conv5_1/dw/scale', 'Scale', 2, [512]),\n",
      " (57, 'relu5_1/dw', 'ReLU', 0, 0),\n",
      " (58, 'conv5_1/sep', 'Convolution', 1, [512, 512, 1, 1]),\n",
      " (59, 'conv5_1/sep/bn', 'BatchNorm', 3, [512]),\n",
      " (60, 'conv5_1/sep/scale', 'Scale', 2, [512]),\n",
      " (61, 'relu5_1/sep', 'ReLU', 0, 0),\n",
      " (62, 'conv5_2/dw', 'Convolution', 1, [512, 1, 3, 3]),\n",
      " (63, 'conv5_2/dw/bn', 'BatchNorm', 3, [512]),\n",
      " (64, 'conv5_2/dw/scale', 'Scale', 2, [512]),\n",
      " (65, 'relu5_2/dw', 'ReLU', 0, 0),\n",
      " (66, 'conv5_2/sep', 'Convolution', 1, [512, 512, 1, 1]),\n",
      " (67, 'conv5_2/sep/bn', 'BatchNorm', 3, [512]),\n",
      " (68, 'conv5_2/sep/scale', 'Scale', 2, [512]),\n",
      " (69, 'relu5_2/sep', 'ReLU', 0, 0),\n",
      " (70, 'conv5_3/dw', 'Convolution', 1, [512, 1, 3, 3]),\n",
      " (71, 'conv5_3/dw/bn', 'BatchNorm', 3, [512]),\n",
      " (72, 'conv5_3/dw/scale', 'Scale', 2, [512]),\n",
      " (73, 'relu5_3/dw', 'ReLU', 0, 0),\n",
      " (74, 'conv5_3/sep', 'Convolution', 1, [512, 512, 1, 1]),\n",
      " (75, 'conv5_3/sep/bn', 'BatchNorm', 3, [512]),\n",
      " (76, 'conv5_3/sep/scale', 'Scale', 2, [512]),\n",
      " (77, 'relu5_3/sep', 'ReLU', 0, 0),\n",
      " (78, 'conv5_4/dw', 'Convolution', 1, [512, 1, 3, 3]),\n",
      " (79, 'conv5_4/dw/bn', 'BatchNorm', 3, [512]),\n",
      " (80, 'conv5_4/dw/scale', 'Scale', 2, [512]),\n",
      " (81, 'relu5_4/dw', 'ReLU', 0, 0),\n",
      " (82, 'conv5_4/sep', 'Convolution', 1, [512, 512, 1, 1]),\n",
      " (83, 'conv5_4/sep/bn', 'BatchNorm', 3, [512]),\n",
      " (84, 'conv5_4/sep/scale', 'Scale', 2, [512]),\n",
      " (85, 'relu5_4/sep', 'ReLU', 0, 0),\n",
      " (86, 'conv5_5/dw', 'Convolution', 1, [512, 1, 3, 3]),\n",
      " (87, 'conv5_5/dw/bn', 'BatchNorm', 3, [512]),\n",
      " (88, 'conv5_5/dw/scale', 'Scale', 2, [512]),\n",
      " (89, 'relu5_5/dw', 'ReLU', 0, 0),\n",
      " (90, 'conv5_5/sep', 'Convolution', 1, [512, 512, 1, 1]),\n",
      " (91, 'conv5_5/sep/bn', 'BatchNorm', 3, [512]),\n",
      " (92, 'conv5_5/sep/scale', 'Scale', 2, [512]),\n",
      " (93, 'relu5_5/sep', 'ReLU', 0, 0),\n",
      " (94, 'conv5_6/dw', 'Convolution', 1, [512, 1, 3, 3]),\n",
      " (95, 'conv5_6/dw/bn', 'BatchNorm', 3, [512]),\n",
      " (96, 'conv5_6/dw/scale', 'Scale', 2, [512]),\n",
      " (97, 'relu5_6/dw', 'ReLU', 0, 0),\n",
      " (98, 'conv5_6/sep', 'Convolution', 1, [1024, 512, 1, 1]),\n",
      " (99, 'conv5_6/sep/bn', 'BatchNorm', 3, [1024]),\n",
      " (100, 'conv5_6/sep/scale', 'Scale', 2, [1024]),\n",
      " (101, 'relu5_6/sep', 'ReLU', 0, 0),\n",
      " (102, 'conv6/dw', 'Convolution', 1, [1024, 1, 3, 3]),\n",
      " (103, 'conv6/dw/bn', 'BatchNorm', 3, [1024]),\n",
      " (104, 'conv6/dw/scale', 'Scale', 2, [1024]),\n",
      " (105, 'relu6/dw', 'ReLU', 0, 0),\n",
      " (106, 'conv6/sep', 'Convolution', 1, [1024, 1024, 1, 1]),\n",
      " (107, 'conv6/sep/bn', 'BatchNorm', 3, [1024]),\n",
      " (108, 'conv6/sep/scale', 'Scale', 2, [1024]),\n",
      " (109, 'relu6/sep', 'ReLU', 0, 0),\n",
      " (110, 'pool6', 'Pooling', 0, 0),\n",
      " (111, 'fc7', 'Convolution', 2, [1000, 1024, 1, 1]),\n",
      " (112, 'fc7_fc7_0_split', 'Split', 0, 0),\n",
      " (113, 'loss', 'SoftmaxWithLoss', 0, 0),\n",
      " (114, 'top1/acc', 'Accuracy', 0, 0),\n",
      " (115, 'top5/acc', 'Accuracy', 0, 0)]\n"
     ]
    }
   ],
   "source": [
    "layers = caffemodel_params.layer\n",
    "names = [(i, l.name, l.type, len(l.blobs), l.blobs[0].shape.dim if len(l.blobs) else 0) for i, l in enumerate(layers)]\n",
    "pprint(names)"
   ]
  },
  {
   "cell_type": "code",
   "execution_count": 16,
   "metadata": {},
   "outputs": [
    {
     "name": "stdout",
     "output_type": "stream",
     "text": [
      "BatchNorm\n",
      "[1] [ 1.]\n"
     ]
    }
   ],
   "source": [
    "idx = 7\n",
    "layer = layers[idx]\n",
    "print(layer.type)\n",
    "\n",
    "j = 2\n",
    "a = np.array(layer.blobs[j].data)\n",
    "s = layer.blobs[j].shape.dim\n",
    "\n",
    "print(s, a)"
   ]
  },
  {
   "cell_type": "code",
   "execution_count": 10,
   "metadata": {},
   "outputs": [
    {
     "data": {
      "text/plain": [
       "[-3.6450198876991635e-06, 0.692308247089386, 0.41665300726890564, 0.421708881855011, 0.2662075459957123, 0.3960053622722626, 0.7624814510345459, 0.4683070480823517, 1.1972514357694308e-07, -1.2171186725140615e-08, 1.2954884276439316e-08, 0.6677316427230835, 0.4605679512023926, 1.5962989152740192e-08, 1.1254932097415349e-08, 0.3987671136856079, 0.47877001762390137, 0.38756898045539856, 0.5033817291259766, 0.36759766936302185, -0.29059037566185, 0.2722242474555969, -1.4396533742910833e-06, 0.4062250554561615, 0.4826686978340149, -1.3022541907048435e-06, -6.403853944902949e-07, 2.4551898292202168e-08, 0.3841036260128021, 6.597526969187584e-10, 0.19825950264930725, 0.5088995099067688]"
      ]
     },
     "execution_count": 10,
     "metadata": {},
     "output_type": "execute_result"
    }
   ],
   "source": [
    "layer.blobs[1].data"
   ]
  },
  {
   "cell_type": "markdown",
   "metadata": {},
   "source": [
    "# Try to get it converted...\n"
   ]
  },
  {
   "cell_type": "code",
   "execution_count": 8,
   "metadata": {
    "collapsed": true
   },
   "outputs": [],
   "source": [
    "import tensorflow as tf\n",
    "\n",
    "isess = tf.InteractiveSession()"
   ]
  },
  {
   "cell_type": "code",
   "execution_count": 9,
   "metadata": {
    "collapsed": true
   },
   "outputs": [],
   "source": [
    "from nets import mobilenets"
   ]
  },
  {
   "cell_type": "code",
   "execution_count": 10,
   "metadata": {
    "collapsed": true
   },
   "outputs": [],
   "source": [
    "# Load caffe model.\n",
    "caffe_filename = '../checkpoints/mobilenets.caffemodel'\n",
    "caffemodel_params = caffe_pb2.NetParameter() \n",
    "caffemodel_params.ParseFromString(open(caffe_filename, 'rb').read())"
   ]
  },
  {
   "cell_type": "code",
   "execution_count": 11,
   "metadata": {
    "collapsed": true
   },
   "outputs": [],
   "source": [
    "# TF stuff!\n",
    "tf.logging.set_verbosity(tf.logging.INFO)\n",
    "global_step = slim.create_global_step()"
   ]
  },
  {
   "cell_type": "code",
   "execution_count": 12,
   "metadata": {
    "collapsed": true
   },
   "outputs": [],
   "source": [
    "# MobileNets TF model.\n",
    "imgsize = mobilenets.mobilenets.default_image_size\n",
    "shape = (1, imgsize, imgsize, 3)\n",
    "img_input = tf.placeholder(shape=shape, dtype=tf.float32)\n",
    "# Create MobileNets net.\n",
    "reuse = True if 'outnet' in locals() else None\n",
    "with slim.arg_scope(mobilenets.mobilenets_arg_scope(data_format='NHWC')):\n",
    "    outnet = mobilenets.mobilenets(img_input, num_classes=1000, is_training=False, reuse=reuse)\n",
    "\n",
    "# Initialize variables.\n",
    "isess.run(tf.global_variables_initializer())\n",
    "isess.run(tf.local_variables_initializer())\n"
   ]
  },
  {
   "cell_type": "code",
   "execution_count": 13,
   "metadata": {
    "scrolled": true
   },
   "outputs": [
    {
     "name": "stdout",
     "output_type": "stream",
     "text": [
      "Assign variable: MobileNets/conv1/weights (3, 3, 3, 32)\n",
      "Convert BGR to RGB in convolution layer: conv1\n",
      "Load weights from convolution layer: conv1 (3, 3, 3, 32)\n",
      "Assign variable: MobileNets/block2/conv_dw/depthwise_weights (3, 3, 32, 1)\n",
      "Load weights from convolution layer: conv2_1/dw (3, 3, 1, 32)\n",
      "Assign variable: MobileNets/block2/conv_pw/weights (1, 1, 32, 64)\n",
      "Load weights from convolution layer: conv2_1/sep (1, 1, 32, 64)\n",
      "Assign variable: MobileNets/block3/conv_dw/depthwise_weights (3, 3, 64, 1)\n",
      "Load weights from convolution layer: conv2_2/dw (3, 3, 1, 64)\n",
      "Assign variable: MobileNets/block3/conv_pw/weights (1, 1, 64, 128)\n",
      "Load weights from convolution layer: conv2_2/sep (1, 1, 64, 128)\n",
      "Assign variable: MobileNets/block4/conv_dw/depthwise_weights (3, 3, 128, 1)\n",
      "Load weights from convolution layer: conv3_1/dw (3, 3, 1, 128)\n",
      "Assign variable: MobileNets/block4/conv_pw/weights (1, 1, 128, 128)\n",
      "Load weights from convolution layer: conv3_1/sep (1, 1, 128, 128)\n",
      "Assign variable: MobileNets/block5/conv_dw/depthwise_weights (3, 3, 128, 1)\n",
      "Load weights from convolution layer: conv3_2/dw (3, 3, 1, 128)\n",
      "Assign variable: MobileNets/block5/conv_pw/weights (1, 1, 128, 256)\n",
      "Load weights from convolution layer: conv3_2/sep (1, 1, 128, 256)\n",
      "Assign variable: MobileNets/block6/conv_dw/depthwise_weights (3, 3, 256, 1)\n",
      "Load weights from convolution layer: conv4_1/dw (3, 3, 1, 256)\n",
      "Assign variable: MobileNets/block6/conv_pw/weights (1, 1, 256, 256)\n",
      "Load weights from convolution layer: conv4_1/sep (1, 1, 256, 256)\n",
      "Assign variable: MobileNets/block7/conv_dw/depthwise_weights (3, 3, 256, 1)\n",
      "Load weights from convolution layer: conv4_2/dw (3, 3, 1, 256)\n",
      "Assign variable: MobileNets/block7/conv_pw/weights (1, 1, 256, 512)\n",
      "Load weights from convolution layer: conv4_2/sep (1, 1, 256, 512)\n",
      "Assign variable: MobileNets/block8/conv_dw/depthwise_weights (3, 3, 512, 1)\n",
      "Load weights from convolution layer: conv5_1/dw (3, 3, 1, 512)\n",
      "Assign variable: MobileNets/block8/conv_pw/weights (1, 1, 512, 512)\n",
      "Load weights from convolution layer: conv5_1/sep (1, 1, 512, 512)\n",
      "Assign variable: MobileNets/block9/conv_dw/depthwise_weights (3, 3, 512, 1)\n",
      "Load weights from convolution layer: conv5_2/dw (3, 3, 1, 512)\n",
      "Assign variable: MobileNets/block9/conv_pw/weights (1, 1, 512, 512)\n",
      "Load weights from convolution layer: conv5_2/sep (1, 1, 512, 512)\n",
      "Assign variable: MobileNets/block10/conv_dw/depthwise_weights (3, 3, 512, 1)\n",
      "Load weights from convolution layer: conv5_3/dw (3, 3, 1, 512)\n",
      "Assign variable: MobileNets/block10/conv_pw/weights (1, 1, 512, 512)\n",
      "Load weights from convolution layer: conv5_3/sep (1, 1, 512, 512)\n",
      "Assign variable: MobileNets/block11/conv_dw/depthwise_weights (3, 3, 512, 1)\n",
      "Load weights from convolution layer: conv5_4/dw (3, 3, 1, 512)\n",
      "Assign variable: MobileNets/block11/conv_pw/weights (1, 1, 512, 512)\n",
      "Load weights from convolution layer: conv5_4/sep (1, 1, 512, 512)\n",
      "Assign variable: MobileNets/block12/conv_dw/depthwise_weights (3, 3, 512, 1)\n",
      "Load weights from convolution layer: conv5_5/dw (3, 3, 1, 512)\n",
      "Assign variable: MobileNets/block12/conv_pw/weights (1, 1, 512, 512)\n",
      "Load weights from convolution layer: conv5_5/sep (1, 1, 512, 512)\n",
      "Assign variable: MobileNets/block13/conv_dw/depthwise_weights (3, 3, 512, 1)\n",
      "Load weights from convolution layer: conv5_6/dw (3, 3, 1, 512)\n",
      "Assign variable: MobileNets/block13/conv_pw/weights (1, 1, 512, 1024)\n",
      "Load weights from convolution layer: conv5_6/sep (1, 1, 512, 1024)\n",
      "Assign variable: MobileNets/block14/conv_dw/depthwise_weights (3, 3, 1024, 1)\n",
      "Load weights from convolution layer: conv6/dw (3, 3, 1, 1024)\n",
      "Assign variable: MobileNets/block14/conv_pw/weights (1, 1, 1024, 1024)\n",
      "Load weights from convolution layer: conv6/sep (1, 1, 1024, 1024)\n",
      "Assign variable: MobileNets/conv_fc15/weights (1, 1, 1024, 1000)\n",
      "Load weights from convolution layer: fc7 (1, 1, 1024, 1000)\n"
     ]
    }
   ],
   "source": [
    "def get_conv_weights(idx, caffemodel_params, bgr_to_rgb=True, dtype=tf.float32):\n",
    "    # Find the correct layer.\n",
    "    layers = caffemodel_params.layer\n",
    "    i = -1\n",
    "    j = 0    \n",
    "    while j < len(layers):\n",
    "        if layers[j].type == 'Convolution':\n",
    "            i += 1\n",
    "        if i == idx:\n",
    "            break\n",
    "        j += 1\n",
    "    layer = layers[j]\n",
    "    # Get weights...\n",
    "    w = np.array(layer.blobs[0].data)\n",
    "    w = np.reshape(w, layer.blobs[0].shape.dim)\n",
    "    # w = np.transpose(w, (1, 0, 2, 3))\n",
    "    w = np.transpose(w, (2, 3, 1, 0))\n",
    "    if bgr_to_rgb == 1 and w.shape[2] == 3:\n",
    "        print('Convert BGR to RGB in convolution layer:', layer.name)\n",
    "        w[:, :, (0, 1, 2)] = w[:, :, (2, 1, 0)]\n",
    "        bgr_to_rgb += 1\n",
    "    print('Load weights from convolution layer:', layer.name, w.shape)\n",
    "    return w\n",
    "#     return tf.cast(w, dtype)\n",
    "    \n",
    "\n",
    "idx = 0\n",
    "var_names_to_values = {}\n",
    "for v in tf.global_variables():\n",
    "    name = v.op.name\n",
    "    if 'conv' in name and 'weights' in name:\n",
    "        print('Assign variable:', v.op.name, v.get_shape())\n",
    "        var_names_to_values[v.op.name] = get_conv_weights(idx, caffemodel_params)\n",
    "        idx += 1\n",
    "\n",
    "# Assign weights...\n",
    "assign_op, feed_dict = tf.contrib.framework.assign_from_values(var_names_to_values)\n",
    "isess.run(assign_op, feed_dict=feed_dict)"
   ]
  },
  {
   "cell_type": "code",
   "execution_count": 14,
   "metadata": {
    "scrolled": true
   },
   "outputs": [
    {
     "name": "stdout",
     "output_type": "stream",
     "text": [
      "Assign variable: MobileNets/conv1/BatchNorm/beta (32,)\n",
      "Load Batch Norm parameters: conv1/bn (32,)\n",
      "Assign variable: MobileNets/block2/conv_dw/BatchNorm/beta (32,)\n",
      "Load Batch Norm parameters: conv2_1/dw/bn (32,)\n",
      "Assign variable: MobileNets/block2/conv_pw/BatchNorm/beta (64,)\n",
      "Load Batch Norm parameters: conv2_1/sep/bn (64,)\n",
      "Assign variable: MobileNets/block3/conv_dw/BatchNorm/beta (64,)\n",
      "Load Batch Norm parameters: conv2_2/dw/bn (64,)\n",
      "Assign variable: MobileNets/block3/conv_pw/BatchNorm/beta (128,)\n",
      "Load Batch Norm parameters: conv2_2/sep/bn (128,)\n",
      "Assign variable: MobileNets/block4/conv_dw/BatchNorm/beta (128,)\n",
      "Load Batch Norm parameters: conv3_1/dw/bn (128,)\n",
      "Assign variable: MobileNets/block4/conv_pw/BatchNorm/beta (128,)\n",
      "Load Batch Norm parameters: conv3_1/sep/bn (128,)\n",
      "Assign variable: MobileNets/block5/conv_dw/BatchNorm/beta (128,)\n",
      "Load Batch Norm parameters: conv3_2/dw/bn (128,)\n",
      "Assign variable: MobileNets/block5/conv_pw/BatchNorm/beta (256,)\n",
      "Load Batch Norm parameters: conv3_2/sep/bn (256,)\n",
      "Assign variable: MobileNets/block6/conv_dw/BatchNorm/beta (256,)\n",
      "Load Batch Norm parameters: conv4_1/dw/bn (256,)\n",
      "Assign variable: MobileNets/block6/conv_pw/BatchNorm/beta (256,)\n",
      "Load Batch Norm parameters: conv4_1/sep/bn (256,)\n",
      "Assign variable: MobileNets/block7/conv_dw/BatchNorm/beta (256,)\n",
      "Load Batch Norm parameters: conv4_2/dw/bn (256,)\n",
      "Assign variable: MobileNets/block7/conv_pw/BatchNorm/beta (512,)\n",
      "Load Batch Norm parameters: conv4_2/sep/bn (512,)\n",
      "Assign variable: MobileNets/block8/conv_dw/BatchNorm/beta (512,)\n",
      "Load Batch Norm parameters: conv5_1/dw/bn (512,)\n",
      "Assign variable: MobileNets/block8/conv_pw/BatchNorm/beta (512,)\n",
      "Load Batch Norm parameters: conv5_1/sep/bn (512,)\n",
      "Assign variable: MobileNets/block9/conv_dw/BatchNorm/beta (512,)\n",
      "Load Batch Norm parameters: conv5_2/dw/bn (512,)\n",
      "Assign variable: MobileNets/block9/conv_pw/BatchNorm/beta (512,)\n",
      "Load Batch Norm parameters: conv5_2/sep/bn (512,)\n",
      "Assign variable: MobileNets/block10/conv_dw/BatchNorm/beta (512,)\n",
      "Load Batch Norm parameters: conv5_3/dw/bn (512,)\n",
      "Assign variable: MobileNets/block10/conv_pw/BatchNorm/beta (512,)\n",
      "Load Batch Norm parameters: conv5_3/sep/bn (512,)\n",
      "Assign variable: MobileNets/block11/conv_dw/BatchNorm/beta (512,)\n",
      "Load Batch Norm parameters: conv5_4/dw/bn (512,)\n",
      "Assign variable: MobileNets/block11/conv_pw/BatchNorm/beta (512,)\n",
      "Load Batch Norm parameters: conv5_4/sep/bn (512,)\n",
      "Assign variable: MobileNets/block12/conv_dw/BatchNorm/beta (512,)\n",
      "Load Batch Norm parameters: conv5_5/dw/bn (512,)\n",
      "Assign variable: MobileNets/block12/conv_pw/BatchNorm/beta (512,)\n",
      "Load Batch Norm parameters: conv5_5/sep/bn (512,)\n",
      "Assign variable: MobileNets/block13/conv_dw/BatchNorm/beta (512,)\n",
      "Load Batch Norm parameters: conv5_6/dw/bn (512,)\n",
      "Assign variable: MobileNets/block13/conv_pw/BatchNorm/beta (1024,)\n",
      "Load Batch Norm parameters: conv5_6/sep/bn (1024,)\n",
      "Assign variable: MobileNets/block14/conv_dw/BatchNorm/beta (1024,)\n",
      "Load Batch Norm parameters: conv6/dw/bn (1024,)\n",
      "Assign variable: MobileNets/block14/conv_pw/BatchNorm/beta (1024,)\n",
      "Load Batch Norm parameters: conv6/sep/bn (1024,)\n"
     ]
    }
   ],
   "source": [
    "def get_bn_params(idx, caffemodel_params, dtype=tf.float32):\n",
    "    # Find the correct layer.\n",
    "    layers = caffemodel_params.layer\n",
    "    i = -1\n",
    "    j = 0    \n",
    "    while j < len(layers):\n",
    "        if layers[j].type == 'BatchNorm':\n",
    "            i += 1\n",
    "        if i == idx:\n",
    "            break\n",
    "        j += 1\n",
    "    l_bn = layers[j]\n",
    "    l_scale =  layers[j+1]\n",
    "    # BN moving averages.\n",
    "    mean, variance, scale = (np.array(l_bn.blobs[0].data), \n",
    "                             np.array(l_bn.blobs[1].data), \n",
    "                             np.array(l_bn.blobs[2].data))\n",
    "    mean = mean / scale\n",
    "    variance = variance / scale\n",
    "    # Scaling parameters.\n",
    "    gamma, beta = (np.array(l_scale.blobs[0].data), \n",
    "                   np.array(l_scale.blobs[1].data))\n",
    "    print('Load Batch Norm parameters:', l_bn.name, mean.shape)\n",
    "    return mean, variance, beta, gamma\n",
    "\n",
    "i = 0\n",
    "idx = 0\n",
    "var_names_to_values = {}\n",
    "variables = tf.global_variables()\n",
    "while i < len(variables):\n",
    "    v = variables[i]\n",
    "    name = v.op.name\n",
    "    if 'BatchNorm' in name and 'beta' in name:\n",
    "        print('Assign variable:', v.op.name, v.get_shape())\n",
    "        mean, variance, beta, gamma = get_bn_params(idx, caffemodel_params)\n",
    "        var_names_to_values[variables[i].op.name] = beta\n",
    "        i += 1\n",
    "        var_names_to_values[variables[i].op.name] = gamma\n",
    "        i += 1\n",
    "        var_names_to_values[variables[i].op.name] = mean\n",
    "        i += 1\n",
    "        var_names_to_values[variables[i].op.name] = variance\n",
    "        idx += 1\n",
    "    i += 1\n",
    "\n",
    "# Assign BN parameters...\n",
    "assign_op, feed_dict = tf.contrib.framework.assign_from_values(var_names_to_values)\n",
    "isess.run(assign_op, feed_dict=feed_dict)"
   ]
  },
  {
   "cell_type": "code",
   "execution_count": 21,
   "metadata": {
    "collapsed": true
   },
   "outputs": [],
   "source": [
    "# Last fully connected layer.\n",
    "i_caffe = -5\n",
    "i_tf = -2\n",
    "# FC weights and bias.\n",
    "layer = caffemodel_params.layer[i_caffe]\n",
    "# w = np.array(layer.blobs[0].data)\n",
    "# w = np.reshape(w, layer.blobs[0].shape.dim)\n",
    "# w = np.squeeze(np.transpose(w))\n",
    "b = np.array(layer.blobs[1].data)\n",
    "b = np.reshape(b, layer.blobs[1].shape.dim)\n",
    "\n",
    "# Assign variables.\n",
    "variables = tf.global_variables()\n",
    "var_names_to_values = {\n",
    "#     variables[i_tf].op.name: w,\n",
    "    variables[i_tf+1].op.name: b,\n",
    "}\n",
    "# Assign...\n",
    "assign_op, feed_dict = tf.contrib.framework.assign_from_values(var_names_to_values)\n",
    "isess.run(assign_op, feed_dict=feed_dict)"
   ]
  },
  {
   "cell_type": "code",
   "execution_count": 22,
   "metadata": {
    "collapsed": true
   },
   "outputs": [],
   "source": [
    "# # tf.trainable_variables()\n",
    "# tf.global_variables()"
   ]
  },
  {
   "cell_type": "code",
   "execution_count": 23,
   "metadata": {},
   "outputs": [
    {
     "data": {
      "text/plain": [
       "'../checkpoints/mobilenets.ckpt'"
      ]
     },
     "execution_count": 23,
     "metadata": {},
     "output_type": "execute_result"
    }
   ],
   "source": [
    "# Save model in checkpoint.\n",
    "saver = tf.train.Saver()\n",
    "ckpt_path = caffe_filename.replace('.caffemodel', '.ckpt')\n",
    "saver.save(isess, ckpt_path, write_meta_graph=False)"
   ]
  },
  {
   "cell_type": "code",
   "execution_count": 25,
   "metadata": {
    "collapsed": true
   },
   "outputs": [],
   "source": [
    "# isess.run(tf.global_variables()[-1])"
   ]
  },
  {
   "cell_type": "code",
   "execution_count": 18,
   "metadata": {},
   "outputs": [
    {
     "data": {
      "text/plain": [
       "'1.1.0'"
      ]
     },
     "execution_count": 18,
     "metadata": {},
     "output_type": "execute_result"
    }
   ],
   "source": [
    "tf.__version__"
   ]
  },
  {
   "cell_type": "code",
   "execution_count": 19,
   "metadata": {},
   "outputs": [
    {
     "data": {
      "text/plain": [
       "-3.4028235e+38"
      ]
     },
     "execution_count": 19,
     "metadata": {},
     "output_type": "execute_result"
    }
   ],
   "source": [
    "tf.float32.min"
   ]
  },
  {
   "cell_type": "code",
   "execution_count": 20,
   "metadata": {},
   "outputs": [
    {
     "data": {
      "text/plain": [
       "[<tf.Variable 'global_step:0' shape=() dtype=int64_ref>,\n",
       " <tf.Variable 'MobileNets/conv1/weights:0' shape=(3, 3, 3, 32) dtype=float32_ref>,\n",
       " <tf.Variable 'MobileNets/conv1/BatchNorm/beta:0' shape=(32,) dtype=float32_ref>,\n",
       " <tf.Variable 'MobileNets/conv1/BatchNorm/gamma:0' shape=(32,) dtype=float32_ref>,\n",
       " <tf.Variable 'MobileNets/conv1/BatchNorm/moving_mean:0' shape=(32,) dtype=float32_ref>,\n",
       " <tf.Variable 'MobileNets/conv1/BatchNorm/moving_variance:0' shape=(32,) dtype=float32_ref>,\n",
       " <tf.Variable 'MobileNets/block2/conv_dw/depthwise_weights:0' shape=(3, 3, 32, 1) dtype=float32_ref>,\n",
       " <tf.Variable 'MobileNets/block2/conv_dw/BatchNorm/beta:0' shape=(32,) dtype=float32_ref>,\n",
       " <tf.Variable 'MobileNets/block2/conv_dw/BatchNorm/gamma:0' shape=(32,) dtype=float32_ref>,\n",
       " <tf.Variable 'MobileNets/block2/conv_dw/BatchNorm/moving_mean:0' shape=(32,) dtype=float32_ref>,\n",
       " <tf.Variable 'MobileNets/block2/conv_dw/BatchNorm/moving_variance:0' shape=(32,) dtype=float32_ref>,\n",
       " <tf.Variable 'MobileNets/block2/conv_pw/weights:0' shape=(1, 1, 32, 64) dtype=float32_ref>,\n",
       " <tf.Variable 'MobileNets/block2/conv_pw/BatchNorm/beta:0' shape=(64,) dtype=float32_ref>,\n",
       " <tf.Variable 'MobileNets/block2/conv_pw/BatchNorm/gamma:0' shape=(64,) dtype=float32_ref>,\n",
       " <tf.Variable 'MobileNets/block2/conv_pw/BatchNorm/moving_mean:0' shape=(64,) dtype=float32_ref>,\n",
       " <tf.Variable 'MobileNets/block2/conv_pw/BatchNorm/moving_variance:0' shape=(64,) dtype=float32_ref>,\n",
       " <tf.Variable 'MobileNets/block3/conv_dw/depthwise_weights:0' shape=(3, 3, 64, 1) dtype=float32_ref>,\n",
       " <tf.Variable 'MobileNets/block3/conv_dw/BatchNorm/beta:0' shape=(64,) dtype=float32_ref>,\n",
       " <tf.Variable 'MobileNets/block3/conv_dw/BatchNorm/gamma:0' shape=(64,) dtype=float32_ref>,\n",
       " <tf.Variable 'MobileNets/block3/conv_dw/BatchNorm/moving_mean:0' shape=(64,) dtype=float32_ref>,\n",
       " <tf.Variable 'MobileNets/block3/conv_dw/BatchNorm/moving_variance:0' shape=(64,) dtype=float32_ref>,\n",
       " <tf.Variable 'MobileNets/block3/conv_pw/weights:0' shape=(1, 1, 64, 128) dtype=float32_ref>,\n",
       " <tf.Variable 'MobileNets/block3/conv_pw/BatchNorm/beta:0' shape=(128,) dtype=float32_ref>,\n",
       " <tf.Variable 'MobileNets/block3/conv_pw/BatchNorm/gamma:0' shape=(128,) dtype=float32_ref>,\n",
       " <tf.Variable 'MobileNets/block3/conv_pw/BatchNorm/moving_mean:0' shape=(128,) dtype=float32_ref>,\n",
       " <tf.Variable 'MobileNets/block3/conv_pw/BatchNorm/moving_variance:0' shape=(128,) dtype=float32_ref>,\n",
       " <tf.Variable 'MobileNets/block4/conv_dw/depthwise_weights:0' shape=(3, 3, 128, 1) dtype=float32_ref>,\n",
       " <tf.Variable 'MobileNets/block4/conv_dw/BatchNorm/beta:0' shape=(128,) dtype=float32_ref>,\n",
       " <tf.Variable 'MobileNets/block4/conv_dw/BatchNorm/gamma:0' shape=(128,) dtype=float32_ref>,\n",
       " <tf.Variable 'MobileNets/block4/conv_dw/BatchNorm/moving_mean:0' shape=(128,) dtype=float32_ref>,\n",
       " <tf.Variable 'MobileNets/block4/conv_dw/BatchNorm/moving_variance:0' shape=(128,) dtype=float32_ref>,\n",
       " <tf.Variable 'MobileNets/block4/conv_pw/weights:0' shape=(1, 1, 128, 128) dtype=float32_ref>,\n",
       " <tf.Variable 'MobileNets/block4/conv_pw/BatchNorm/beta:0' shape=(128,) dtype=float32_ref>,\n",
       " <tf.Variable 'MobileNets/block4/conv_pw/BatchNorm/gamma:0' shape=(128,) dtype=float32_ref>,\n",
       " <tf.Variable 'MobileNets/block4/conv_pw/BatchNorm/moving_mean:0' shape=(128,) dtype=float32_ref>,\n",
       " <tf.Variable 'MobileNets/block4/conv_pw/BatchNorm/moving_variance:0' shape=(128,) dtype=float32_ref>,\n",
       " <tf.Variable 'MobileNets/block5/conv_dw/depthwise_weights:0' shape=(3, 3, 128, 1) dtype=float32_ref>,\n",
       " <tf.Variable 'MobileNets/block5/conv_dw/BatchNorm/beta:0' shape=(128,) dtype=float32_ref>,\n",
       " <tf.Variable 'MobileNets/block5/conv_dw/BatchNorm/gamma:0' shape=(128,) dtype=float32_ref>,\n",
       " <tf.Variable 'MobileNets/block5/conv_dw/BatchNorm/moving_mean:0' shape=(128,) dtype=float32_ref>,\n",
       " <tf.Variable 'MobileNets/block5/conv_dw/BatchNorm/moving_variance:0' shape=(128,) dtype=float32_ref>,\n",
       " <tf.Variable 'MobileNets/block5/conv_pw/weights:0' shape=(1, 1, 128, 256) dtype=float32_ref>,\n",
       " <tf.Variable 'MobileNets/block5/conv_pw/BatchNorm/beta:0' shape=(256,) dtype=float32_ref>,\n",
       " <tf.Variable 'MobileNets/block5/conv_pw/BatchNorm/gamma:0' shape=(256,) dtype=float32_ref>,\n",
       " <tf.Variable 'MobileNets/block5/conv_pw/BatchNorm/moving_mean:0' shape=(256,) dtype=float32_ref>,\n",
       " <tf.Variable 'MobileNets/block5/conv_pw/BatchNorm/moving_variance:0' shape=(256,) dtype=float32_ref>,\n",
       " <tf.Variable 'MobileNets/block6/conv_dw/depthwise_weights:0' shape=(3, 3, 256, 1) dtype=float32_ref>,\n",
       " <tf.Variable 'MobileNets/block6/conv_dw/BatchNorm/beta:0' shape=(256,) dtype=float32_ref>,\n",
       " <tf.Variable 'MobileNets/block6/conv_dw/BatchNorm/gamma:0' shape=(256,) dtype=float32_ref>,\n",
       " <tf.Variable 'MobileNets/block6/conv_dw/BatchNorm/moving_mean:0' shape=(256,) dtype=float32_ref>,\n",
       " <tf.Variable 'MobileNets/block6/conv_dw/BatchNorm/moving_variance:0' shape=(256,) dtype=float32_ref>,\n",
       " <tf.Variable 'MobileNets/block6/conv_pw/weights:0' shape=(1, 1, 256, 256) dtype=float32_ref>,\n",
       " <tf.Variable 'MobileNets/block6/conv_pw/BatchNorm/beta:0' shape=(256,) dtype=float32_ref>,\n",
       " <tf.Variable 'MobileNets/block6/conv_pw/BatchNorm/gamma:0' shape=(256,) dtype=float32_ref>,\n",
       " <tf.Variable 'MobileNets/block6/conv_pw/BatchNorm/moving_mean:0' shape=(256,) dtype=float32_ref>,\n",
       " <tf.Variable 'MobileNets/block6/conv_pw/BatchNorm/moving_variance:0' shape=(256,) dtype=float32_ref>,\n",
       " <tf.Variable 'MobileNets/block7/conv_dw/depthwise_weights:0' shape=(3, 3, 256, 1) dtype=float32_ref>,\n",
       " <tf.Variable 'MobileNets/block7/conv_dw/BatchNorm/beta:0' shape=(256,) dtype=float32_ref>,\n",
       " <tf.Variable 'MobileNets/block7/conv_dw/BatchNorm/gamma:0' shape=(256,) dtype=float32_ref>,\n",
       " <tf.Variable 'MobileNets/block7/conv_dw/BatchNorm/moving_mean:0' shape=(256,) dtype=float32_ref>,\n",
       " <tf.Variable 'MobileNets/block7/conv_dw/BatchNorm/moving_variance:0' shape=(256,) dtype=float32_ref>,\n",
       " <tf.Variable 'MobileNets/block7/conv_pw/weights:0' shape=(1, 1, 256, 512) dtype=float32_ref>,\n",
       " <tf.Variable 'MobileNets/block7/conv_pw/BatchNorm/beta:0' shape=(512,) dtype=float32_ref>,\n",
       " <tf.Variable 'MobileNets/block7/conv_pw/BatchNorm/gamma:0' shape=(512,) dtype=float32_ref>,\n",
       " <tf.Variable 'MobileNets/block7/conv_pw/BatchNorm/moving_mean:0' shape=(512,) dtype=float32_ref>,\n",
       " <tf.Variable 'MobileNets/block7/conv_pw/BatchNorm/moving_variance:0' shape=(512,) dtype=float32_ref>,\n",
       " <tf.Variable 'MobileNets/block8/conv_dw/depthwise_weights:0' shape=(3, 3, 512, 1) dtype=float32_ref>,\n",
       " <tf.Variable 'MobileNets/block8/conv_dw/BatchNorm/beta:0' shape=(512,) dtype=float32_ref>,\n",
       " <tf.Variable 'MobileNets/block8/conv_dw/BatchNorm/gamma:0' shape=(512,) dtype=float32_ref>,\n",
       " <tf.Variable 'MobileNets/block8/conv_dw/BatchNorm/moving_mean:0' shape=(512,) dtype=float32_ref>,\n",
       " <tf.Variable 'MobileNets/block8/conv_dw/BatchNorm/moving_variance:0' shape=(512,) dtype=float32_ref>,\n",
       " <tf.Variable 'MobileNets/block8/conv_pw/weights:0' shape=(1, 1, 512, 512) dtype=float32_ref>,\n",
       " <tf.Variable 'MobileNets/block8/conv_pw/BatchNorm/beta:0' shape=(512,) dtype=float32_ref>,\n",
       " <tf.Variable 'MobileNets/block8/conv_pw/BatchNorm/gamma:0' shape=(512,) dtype=float32_ref>,\n",
       " <tf.Variable 'MobileNets/block8/conv_pw/BatchNorm/moving_mean:0' shape=(512,) dtype=float32_ref>,\n",
       " <tf.Variable 'MobileNets/block8/conv_pw/BatchNorm/moving_variance:0' shape=(512,) dtype=float32_ref>,\n",
       " <tf.Variable 'MobileNets/block9/conv_dw/depthwise_weights:0' shape=(3, 3, 512, 1) dtype=float32_ref>,\n",
       " <tf.Variable 'MobileNets/block9/conv_dw/BatchNorm/beta:0' shape=(512,) dtype=float32_ref>,\n",
       " <tf.Variable 'MobileNets/block9/conv_dw/BatchNorm/gamma:0' shape=(512,) dtype=float32_ref>,\n",
       " <tf.Variable 'MobileNets/block9/conv_dw/BatchNorm/moving_mean:0' shape=(512,) dtype=float32_ref>,\n",
       " <tf.Variable 'MobileNets/block9/conv_dw/BatchNorm/moving_variance:0' shape=(512,) dtype=float32_ref>,\n",
       " <tf.Variable 'MobileNets/block9/conv_pw/weights:0' shape=(1, 1, 512, 512) dtype=float32_ref>,\n",
       " <tf.Variable 'MobileNets/block9/conv_pw/BatchNorm/beta:0' shape=(512,) dtype=float32_ref>,\n",
       " <tf.Variable 'MobileNets/block9/conv_pw/BatchNorm/gamma:0' shape=(512,) dtype=float32_ref>,\n",
       " <tf.Variable 'MobileNets/block9/conv_pw/BatchNorm/moving_mean:0' shape=(512,) dtype=float32_ref>,\n",
       " <tf.Variable 'MobileNets/block9/conv_pw/BatchNorm/moving_variance:0' shape=(512,) dtype=float32_ref>,\n",
       " <tf.Variable 'MobileNets/block10/conv_dw/depthwise_weights:0' shape=(3, 3, 512, 1) dtype=float32_ref>,\n",
       " <tf.Variable 'MobileNets/block10/conv_dw/BatchNorm/beta:0' shape=(512,) dtype=float32_ref>,\n",
       " <tf.Variable 'MobileNets/block10/conv_dw/BatchNorm/gamma:0' shape=(512,) dtype=float32_ref>,\n",
       " <tf.Variable 'MobileNets/block10/conv_dw/BatchNorm/moving_mean:0' shape=(512,) dtype=float32_ref>,\n",
       " <tf.Variable 'MobileNets/block10/conv_dw/BatchNorm/moving_variance:0' shape=(512,) dtype=float32_ref>,\n",
       " <tf.Variable 'MobileNets/block10/conv_pw/weights:0' shape=(1, 1, 512, 512) dtype=float32_ref>,\n",
       " <tf.Variable 'MobileNets/block10/conv_pw/BatchNorm/beta:0' shape=(512,) dtype=float32_ref>,\n",
       " <tf.Variable 'MobileNets/block10/conv_pw/BatchNorm/gamma:0' shape=(512,) dtype=float32_ref>,\n",
       " <tf.Variable 'MobileNets/block10/conv_pw/BatchNorm/moving_mean:0' shape=(512,) dtype=float32_ref>,\n",
       " <tf.Variable 'MobileNets/block10/conv_pw/BatchNorm/moving_variance:0' shape=(512,) dtype=float32_ref>,\n",
       " <tf.Variable 'MobileNets/block11/conv_dw/depthwise_weights:0' shape=(3, 3, 512, 1) dtype=float32_ref>,\n",
       " <tf.Variable 'MobileNets/block11/conv_dw/BatchNorm/beta:0' shape=(512,) dtype=float32_ref>,\n",
       " <tf.Variable 'MobileNets/block11/conv_dw/BatchNorm/gamma:0' shape=(512,) dtype=float32_ref>,\n",
       " <tf.Variable 'MobileNets/block11/conv_dw/BatchNorm/moving_mean:0' shape=(512,) dtype=float32_ref>,\n",
       " <tf.Variable 'MobileNets/block11/conv_dw/BatchNorm/moving_variance:0' shape=(512,) dtype=float32_ref>,\n",
       " <tf.Variable 'MobileNets/block11/conv_pw/weights:0' shape=(1, 1, 512, 512) dtype=float32_ref>,\n",
       " <tf.Variable 'MobileNets/block11/conv_pw/BatchNorm/beta:0' shape=(512,) dtype=float32_ref>,\n",
       " <tf.Variable 'MobileNets/block11/conv_pw/BatchNorm/gamma:0' shape=(512,) dtype=float32_ref>,\n",
       " <tf.Variable 'MobileNets/block11/conv_pw/BatchNorm/moving_mean:0' shape=(512,) dtype=float32_ref>,\n",
       " <tf.Variable 'MobileNets/block11/conv_pw/BatchNorm/moving_variance:0' shape=(512,) dtype=float32_ref>,\n",
       " <tf.Variable 'MobileNets/block12/conv_dw/depthwise_weights:0' shape=(3, 3, 512, 1) dtype=float32_ref>,\n",
       " <tf.Variable 'MobileNets/block12/conv_dw/BatchNorm/beta:0' shape=(512,) dtype=float32_ref>,\n",
       " <tf.Variable 'MobileNets/block12/conv_dw/BatchNorm/gamma:0' shape=(512,) dtype=float32_ref>,\n",
       " <tf.Variable 'MobileNets/block12/conv_dw/BatchNorm/moving_mean:0' shape=(512,) dtype=float32_ref>,\n",
       " <tf.Variable 'MobileNets/block12/conv_dw/BatchNorm/moving_variance:0' shape=(512,) dtype=float32_ref>,\n",
       " <tf.Variable 'MobileNets/block12/conv_pw/weights:0' shape=(1, 1, 512, 512) dtype=float32_ref>,\n",
       " <tf.Variable 'MobileNets/block12/conv_pw/BatchNorm/beta:0' shape=(512,) dtype=float32_ref>,\n",
       " <tf.Variable 'MobileNets/block12/conv_pw/BatchNorm/gamma:0' shape=(512,) dtype=float32_ref>,\n",
       " <tf.Variable 'MobileNets/block12/conv_pw/BatchNorm/moving_mean:0' shape=(512,) dtype=float32_ref>,\n",
       " <tf.Variable 'MobileNets/block12/conv_pw/BatchNorm/moving_variance:0' shape=(512,) dtype=float32_ref>,\n",
       " <tf.Variable 'MobileNets/block13/conv_dw/depthwise_weights:0' shape=(3, 3, 512, 1) dtype=float32_ref>,\n",
       " <tf.Variable 'MobileNets/block13/conv_dw/BatchNorm/beta:0' shape=(512,) dtype=float32_ref>,\n",
       " <tf.Variable 'MobileNets/block13/conv_dw/BatchNorm/gamma:0' shape=(512,) dtype=float32_ref>,\n",
       " <tf.Variable 'MobileNets/block13/conv_dw/BatchNorm/moving_mean:0' shape=(512,) dtype=float32_ref>,\n",
       " <tf.Variable 'MobileNets/block13/conv_dw/BatchNorm/moving_variance:0' shape=(512,) dtype=float32_ref>,\n",
       " <tf.Variable 'MobileNets/block13/conv_pw/weights:0' shape=(1, 1, 512, 1024) dtype=float32_ref>,\n",
       " <tf.Variable 'MobileNets/block13/conv_pw/BatchNorm/beta:0' shape=(1024,) dtype=float32_ref>,\n",
       " <tf.Variable 'MobileNets/block13/conv_pw/BatchNorm/gamma:0' shape=(1024,) dtype=float32_ref>,\n",
       " <tf.Variable 'MobileNets/block13/conv_pw/BatchNorm/moving_mean:0' shape=(1024,) dtype=float32_ref>,\n",
       " <tf.Variable 'MobileNets/block13/conv_pw/BatchNorm/moving_variance:0' shape=(1024,) dtype=float32_ref>,\n",
       " <tf.Variable 'MobileNets/block14/conv_dw/depthwise_weights:0' shape=(3, 3, 1024, 1) dtype=float32_ref>,\n",
       " <tf.Variable 'MobileNets/block14/conv_dw/BatchNorm/beta:0' shape=(1024,) dtype=float32_ref>,\n",
       " <tf.Variable 'MobileNets/block14/conv_dw/BatchNorm/gamma:0' shape=(1024,) dtype=float32_ref>,\n",
       " <tf.Variable 'MobileNets/block14/conv_dw/BatchNorm/moving_mean:0' shape=(1024,) dtype=float32_ref>,\n",
       " <tf.Variable 'MobileNets/block14/conv_dw/BatchNorm/moving_variance:0' shape=(1024,) dtype=float32_ref>,\n",
       " <tf.Variable 'MobileNets/block14/conv_pw/weights:0' shape=(1, 1, 1024, 1024) dtype=float32_ref>,\n",
       " <tf.Variable 'MobileNets/block14/conv_pw/BatchNorm/beta:0' shape=(1024,) dtype=float32_ref>,\n",
       " <tf.Variable 'MobileNets/block14/conv_pw/BatchNorm/gamma:0' shape=(1024,) dtype=float32_ref>,\n",
       " <tf.Variable 'MobileNets/block14/conv_pw/BatchNorm/moving_mean:0' shape=(1024,) dtype=float32_ref>,\n",
       " <tf.Variable 'MobileNets/block14/conv_pw/BatchNorm/moving_variance:0' shape=(1024,) dtype=float32_ref>,\n",
       " <tf.Variable 'MobileNets/conv_fc15/weights:0' shape=(1, 1, 1024, 1000) dtype=float32_ref>,\n",
       " <tf.Variable 'MobileNets/conv_fc15/biases:0' shape=(1000,) dtype=float32_ref>]"
      ]
     },
     "execution_count": 20,
     "metadata": {},
     "output_type": "execute_result"
    }
   ],
   "source": [
    "tf.global_variables()"
   ]
  },
  {
   "cell_type": "code",
   "execution_count": null,
   "metadata": {
    "collapsed": true
   },
   "outputs": [],
   "source": []
  }
 ],
 "metadata": {
  "kernelspec": {
   "display_name": "Python [conda env:caffe]",
   "language": "python",
   "name": "conda-env-caffe-py"
  },
  "language_info": {
   "codemirror_mode": {
    "name": "ipython",
    "version": 3
   },
   "file_extension": ".py",
   "mimetype": "text/x-python",
   "name": "python",
   "nbconvert_exporter": "python",
   "pygments_lexer": "ipython3",
   "version": "3.5.2"
  }
 },
 "nbformat": 4,
 "nbformat_minor": 2
}
