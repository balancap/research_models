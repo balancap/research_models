{
 "cells": [
  {
   "cell_type": "code",
   "execution_count": 17,
   "metadata": {
    "collapsed": false
   },
   "outputs": [],
   "source": [
    "import h5py\n",
    "\n",
    "import numpy as np\n",
    "import tensorflow as tf\n",
    "import keras"
   ]
  },
  {
   "cell_type": "code",
   "execution_count": 2,
   "metadata": {
    "collapsed": true
   },
   "outputs": [],
   "source": [
    "# Load Xception Weights\n",
    "filepath = '../checkpoints/xception_weights_tf_dim_ordering_tf_kernels.h5'\n",
    "f = h5py.File(filepath, mode='r')"
   ]
  },
  {
   "cell_type": "code",
   "execution_count": 4,
   "metadata": {
    "collapsed": false,
    "scrolled": true
   },
   "outputs": [
    {
     "data": {
      "text/plain": [
       "['activation_1',\n",
       " 'activation_10',\n",
       " 'activation_11',\n",
       " 'activation_12',\n",
       " 'activation_13',\n",
       " 'activation_14',\n",
       " 'activation_15',\n",
       " 'activation_16',\n",
       " 'activation_17',\n",
       " 'activation_18',\n",
       " 'activation_19',\n",
       " 'activation_2',\n",
       " 'activation_20',\n",
       " 'activation_21',\n",
       " 'activation_22',\n",
       " 'activation_23',\n",
       " 'activation_24',\n",
       " 'activation_25',\n",
       " 'activation_26',\n",
       " 'activation_27',\n",
       " 'activation_28',\n",
       " 'activation_29',\n",
       " 'activation_3',\n",
       " 'activation_30',\n",
       " 'activation_31',\n",
       " 'activation_32',\n",
       " 'activation_33',\n",
       " 'activation_34',\n",
       " 'activation_35',\n",
       " 'activation_4',\n",
       " 'activation_5',\n",
       " 'activation_6',\n",
       " 'activation_7',\n",
       " 'activation_8',\n",
       " 'activation_9',\n",
       " 'batchnormalization_1',\n",
       " 'batchnormalization_10',\n",
       " 'batchnormalization_11',\n",
       " 'batchnormalization_12',\n",
       " 'batchnormalization_13',\n",
       " 'batchnormalization_14',\n",
       " 'batchnormalization_15',\n",
       " 'batchnormalization_16',\n",
       " 'batchnormalization_17',\n",
       " 'batchnormalization_18',\n",
       " 'batchnormalization_19',\n",
       " 'batchnormalization_2',\n",
       " 'batchnormalization_20',\n",
       " 'batchnormalization_21',\n",
       " 'batchnormalization_22',\n",
       " 'batchnormalization_23',\n",
       " 'batchnormalization_24',\n",
       " 'batchnormalization_25',\n",
       " 'batchnormalization_26',\n",
       " 'batchnormalization_27',\n",
       " 'batchnormalization_28',\n",
       " 'batchnormalization_29',\n",
       " 'batchnormalization_3',\n",
       " 'batchnormalization_30',\n",
       " 'batchnormalization_31',\n",
       " 'batchnormalization_32',\n",
       " 'batchnormalization_33',\n",
       " 'batchnormalization_34',\n",
       " 'batchnormalization_35',\n",
       " 'batchnormalization_36',\n",
       " 'batchnormalization_37',\n",
       " 'batchnormalization_38',\n",
       " 'batchnormalization_39',\n",
       " 'batchnormalization_4',\n",
       " 'batchnormalization_40',\n",
       " 'batchnormalization_5',\n",
       " 'batchnormalization_6',\n",
       " 'batchnormalization_7',\n",
       " 'batchnormalization_8',\n",
       " 'batchnormalization_9',\n",
       " 'convolution2d_1',\n",
       " 'convolution2d_2',\n",
       " 'convolution2d_3',\n",
       " 'convolution2d_4',\n",
       " 'convolution2d_5',\n",
       " 'convolution2d_6',\n",
       " 'dense_2',\n",
       " 'globalaveragepooling2d_2',\n",
       " 'input_1',\n",
       " 'maxpooling2d_1',\n",
       " 'maxpooling2d_2',\n",
       " 'maxpooling2d_3',\n",
       " 'maxpooling2d_4',\n",
       " 'merge_1',\n",
       " 'merge_10',\n",
       " 'merge_11',\n",
       " 'merge_12',\n",
       " 'merge_2',\n",
       " 'merge_3',\n",
       " 'merge_4',\n",
       " 'merge_5',\n",
       " 'merge_6',\n",
       " 'merge_7',\n",
       " 'merge_8',\n",
       " 'merge_9',\n",
       " 'separableconvolution2d_1',\n",
       " 'separableconvolution2d_10',\n",
       " 'separableconvolution2d_11',\n",
       " 'separableconvolution2d_12',\n",
       " 'separableconvolution2d_13',\n",
       " 'separableconvolution2d_14',\n",
       " 'separableconvolution2d_15',\n",
       " 'separableconvolution2d_16',\n",
       " 'separableconvolution2d_17',\n",
       " 'separableconvolution2d_18',\n",
       " 'separableconvolution2d_19',\n",
       " 'separableconvolution2d_2',\n",
       " 'separableconvolution2d_20',\n",
       " 'separableconvolution2d_21',\n",
       " 'separableconvolution2d_22',\n",
       " 'separableconvolution2d_23',\n",
       " 'separableconvolution2d_24',\n",
       " 'separableconvolution2d_25',\n",
       " 'separableconvolution2d_26',\n",
       " 'separableconvolution2d_27',\n",
       " 'separableconvolution2d_28',\n",
       " 'separableconvolution2d_29',\n",
       " 'separableconvolution2d_3',\n",
       " 'separableconvolution2d_30',\n",
       " 'separableconvolution2d_31',\n",
       " 'separableconvolution2d_32',\n",
       " 'separableconvolution2d_33',\n",
       " 'separableconvolution2d_34',\n",
       " 'separableconvolution2d_4',\n",
       " 'separableconvolution2d_5',\n",
       " 'separableconvolution2d_6',\n",
       " 'separableconvolution2d_7',\n",
       " 'separableconvolution2d_8',\n",
       " 'separableconvolution2d_9']"
      ]
     },
     "execution_count": 4,
     "metadata": {},
     "output_type": "execute_result"
    }
   ],
   "source": [
    "# Layers in the file.\n",
    "list(f.keys())"
   ]
  },
  {
   "cell_type": "code",
   "execution_count": 7,
   "metadata": {
    "collapsed": false
   },
   "outputs": [
    {
     "data": {
      "text/plain": [
       "['separableconvolution2d_15_depthwise_kernel:0',\n",
       " 'separableconvolution2d_15_pointwise_kernel:0']"
      ]
     },
     "execution_count": 7,
     "metadata": {},
     "output_type": "execute_result"
    }
   ],
   "source": [
    "list(f['separableconvolution2d_15'].keys())"
   ]
  },
  {
   "cell_type": "code",
   "execution_count": 23,
   "metadata": {
    "collapsed": false
   },
   "outputs": [
    {
     "data": {
      "text/plain": [
       "array([[[[ 0.05484195, -0.06683763,  0.01180168, ...,  0.01954787,\n",
       "           0.0049949 ,  0.03220145],\n",
       "         [ 0.01183175,  0.04093903, -0.00597163, ...,  0.036121  ,\n",
       "           0.08721849, -0.04177899],\n",
       "         [ 0.00728922, -0.06933396, -0.07313737, ..., -0.04235213,\n",
       "          -0.05340996, -0.06449044],\n",
       "         ..., \n",
       "         [ 0.05592785, -0.0503267 , -0.01380676, ...,  0.02029461,\n",
       "          -0.05235605, -0.02123747],\n",
       "         [-0.00215572, -0.04646812,  0.03187541, ...,  0.04562925,\n",
       "           0.01864741, -0.00635736],\n",
       "         [ 0.03126196, -0.03617445, -0.01912664, ...,  0.0018204 ,\n",
       "          -0.06446673,  0.01322091]]]], dtype=float32)"
      ]
     },
     "execution_count": 23,
     "metadata": {},
     "output_type": "execute_result"
    }
   ],
   "source": [
    "f['separableconvolution2d_15']['separableconvolution2d_15_pointwise_kernel:0'][:]"
   ]
  },
  {
   "cell_type": "code",
   "execution_count": 13,
   "metadata": {
    "collapsed": false
   },
   "outputs": [
    {
     "data": {
      "text/plain": [
       "['batchnormalization_1_beta:0',\n",
       " 'batchnormalization_1_gamma:0',\n",
       " 'batchnormalization_1_running_mean:0',\n",
       " 'batchnormalization_1_running_std:0']"
      ]
     },
     "execution_count": 13,
     "metadata": {},
     "output_type": "execute_result"
    }
   ],
   "source": [
    "list(f['batchnormalization_1'].keys())"
   ]
  },
  {
   "cell_type": "code",
   "execution_count": 20,
   "metadata": {
    "collapsed": false
   },
   "outputs": [
    {
     "name": "stdout",
     "output_type": "stream",
     "text": [
      "[ 0.40758696 -0.98514813 -0.86520571 -0.63649732  0.93134093  0.14324439\n",
      " -0.66179281 -1.51345146 -0.97260857  0.85907674  2.79930234  3.5226903\n",
      "  2.10629082  1.33473647 -1.21424472 -1.23759425 -1.63252246  2.84020543\n",
      "  0.17067833  0.75588095 -1.54264283 -1.03201449 -1.07113349  3.34834623\n",
      " -0.53035581 -1.44746411 -1.16963887 -1.44426501 -1.61292255  2.8850162\n",
      "  2.06397438  0.47504646]\n"
     ]
    }
   ],
   "source": [
    "print(f['batchnormalization_1']['batchnormalization_1_beta:0'][:])"
   ]
  },
  {
   "cell_type": "code",
   "execution_count": null,
   "metadata": {
    "collapsed": true
   },
   "outputs": [],
   "source": []
  }
 ],
 "metadata": {
  "anaconda-cloud": {},
  "kernelspec": {
   "display_name": "Python [conda env:tensorflow]",
   "language": "python",
   "name": "conda-env-tensorflow-py"
  },
  "language_info": {
   "codemirror_mode": {
    "name": "ipython",
    "version": 3
   },
   "file_extension": ".py",
   "mimetype": "text/x-python",
   "name": "python",
   "nbconvert_exporter": "python",
   "pygments_lexer": "ipython3",
   "version": "3.5.2"
  }
 },
 "nbformat": 4,
 "nbformat_minor": 2
}
