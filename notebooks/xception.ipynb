{
 "cells": [
  {
   "cell_type": "code",
   "execution_count": 1,
   "metadata": {
    "collapsed": false
   },
   "outputs": [
    {
     "name": "stderr",
     "output_type": "stream",
     "text": [
      "Using TensorFlow backend.\n"
     ]
    }
   ],
   "source": [
    "import h5py\n",
    "\n",
    "import numpy as np\n",
    "import tensorflow as tf\n",
    "import keras"
   ]
  },
  {
   "cell_type": "code",
   "execution_count": 2,
   "metadata": {
    "collapsed": true
   },
   "outputs": [],
   "source": [
    "# Load Xception Weights\n",
    "filepath = '../checkpoints/xception_weights_tf_dim_ordering_tf_kernels.h5'\n",
    "f = h5py.File(filepath, mode='r')"
   ]
  },
  {
   "cell_type": "code",
   "execution_count": 3,
   "metadata": {
    "collapsed": false,
    "scrolled": false
   },
   "outputs": [
    {
     "data": {
      "text/plain": [
       "['activation_1',\n",
       " 'activation_10',\n",
       " 'activation_11',\n",
       " 'activation_12',\n",
       " 'activation_13',\n",
       " 'activation_14',\n",
       " 'activation_15',\n",
       " 'activation_16',\n",
       " 'activation_17',\n",
       " 'activation_18',\n",
       " 'activation_19',\n",
       " 'activation_2',\n",
       " 'activation_20',\n",
       " 'activation_21',\n",
       " 'activation_22',\n",
       " 'activation_23',\n",
       " 'activation_24',\n",
       " 'activation_25',\n",
       " 'activation_26',\n",
       " 'activation_27',\n",
       " 'activation_28',\n",
       " 'activation_29',\n",
       " 'activation_3',\n",
       " 'activation_30',\n",
       " 'activation_31',\n",
       " 'activation_32',\n",
       " 'activation_33',\n",
       " 'activation_34',\n",
       " 'activation_35',\n",
       " 'activation_4',\n",
       " 'activation_5',\n",
       " 'activation_6',\n",
       " 'activation_7',\n",
       " 'activation_8',\n",
       " 'activation_9',\n",
       " 'batchnormalization_1',\n",
       " 'batchnormalization_10',\n",
       " 'batchnormalization_11',\n",
       " 'batchnormalization_12',\n",
       " 'batchnormalization_13',\n",
       " 'batchnormalization_14',\n",
       " 'batchnormalization_15',\n",
       " 'batchnormalization_16',\n",
       " 'batchnormalization_17',\n",
       " 'batchnormalization_18',\n",
       " 'batchnormalization_19',\n",
       " 'batchnormalization_2',\n",
       " 'batchnormalization_20',\n",
       " 'batchnormalization_21',\n",
       " 'batchnormalization_22',\n",
       " 'batchnormalization_23',\n",
       " 'batchnormalization_24',\n",
       " 'batchnormalization_25',\n",
       " 'batchnormalization_26',\n",
       " 'batchnormalization_27',\n",
       " 'batchnormalization_28',\n",
       " 'batchnormalization_29',\n",
       " 'batchnormalization_3',\n",
       " 'batchnormalization_30',\n",
       " 'batchnormalization_31',\n",
       " 'batchnormalization_32',\n",
       " 'batchnormalization_33',\n",
       " 'batchnormalization_34',\n",
       " 'batchnormalization_35',\n",
       " 'batchnormalization_36',\n",
       " 'batchnormalization_37',\n",
       " 'batchnormalization_38',\n",
       " 'batchnormalization_39',\n",
       " 'batchnormalization_4',\n",
       " 'batchnormalization_40',\n",
       " 'batchnormalization_5',\n",
       " 'batchnormalization_6',\n",
       " 'batchnormalization_7',\n",
       " 'batchnormalization_8',\n",
       " 'batchnormalization_9',\n",
       " 'convolution2d_1',\n",
       " 'convolution2d_2',\n",
       " 'convolution2d_3',\n",
       " 'convolution2d_4',\n",
       " 'convolution2d_5',\n",
       " 'convolution2d_6',\n",
       " 'dense_2',\n",
       " 'globalaveragepooling2d_2',\n",
       " 'input_1',\n",
       " 'maxpooling2d_1',\n",
       " 'maxpooling2d_2',\n",
       " 'maxpooling2d_3',\n",
       " 'maxpooling2d_4',\n",
       " 'merge_1',\n",
       " 'merge_10',\n",
       " 'merge_11',\n",
       " 'merge_12',\n",
       " 'merge_2',\n",
       " 'merge_3',\n",
       " 'merge_4',\n",
       " 'merge_5',\n",
       " 'merge_6',\n",
       " 'merge_7',\n",
       " 'merge_8',\n",
       " 'merge_9',\n",
       " 'separableconvolution2d_1',\n",
       " 'separableconvolution2d_10',\n",
       " 'separableconvolution2d_11',\n",
       " 'separableconvolution2d_12',\n",
       " 'separableconvolution2d_13',\n",
       " 'separableconvolution2d_14',\n",
       " 'separableconvolution2d_15',\n",
       " 'separableconvolution2d_16',\n",
       " 'separableconvolution2d_17',\n",
       " 'separableconvolution2d_18',\n",
       " 'separableconvolution2d_19',\n",
       " 'separableconvolution2d_2',\n",
       " 'separableconvolution2d_20',\n",
       " 'separableconvolution2d_21',\n",
       " 'separableconvolution2d_22',\n",
       " 'separableconvolution2d_23',\n",
       " 'separableconvolution2d_24',\n",
       " 'separableconvolution2d_25',\n",
       " 'separableconvolution2d_26',\n",
       " 'separableconvolution2d_27',\n",
       " 'separableconvolution2d_28',\n",
       " 'separableconvolution2d_29',\n",
       " 'separableconvolution2d_3',\n",
       " 'separableconvolution2d_30',\n",
       " 'separableconvolution2d_31',\n",
       " 'separableconvolution2d_32',\n",
       " 'separableconvolution2d_33',\n",
       " 'separableconvolution2d_34',\n",
       " 'separableconvolution2d_4',\n",
       " 'separableconvolution2d_5',\n",
       " 'separableconvolution2d_6',\n",
       " 'separableconvolution2d_7',\n",
       " 'separableconvolution2d_8',\n",
       " 'separableconvolution2d_9']"
      ]
     },
     "execution_count": 3,
     "metadata": {},
     "output_type": "execute_result"
    }
   ],
   "source": [
    "# Layers in the file.\n",
    "list(f.keys())"
   ]
  },
  {
   "cell_type": "code",
   "execution_count": 4,
   "metadata": {
    "collapsed": false
   },
   "outputs": [
    {
     "data": {
      "text/plain": [
       "['separableconvolution2d_15_depthwise_kernel:0',\n",
       " 'separableconvolution2d_15_pointwise_kernel:0']"
      ]
     },
     "execution_count": 4,
     "metadata": {},
     "output_type": "execute_result"
    }
   ],
   "source": [
    "list(f['separableconvolution2d_15'].keys())"
   ]
  },
  {
   "cell_type": "code",
   "execution_count": 1,
   "metadata": {
    "collapsed": false
   },
   "outputs": [
    {
     "ename": "NameError",
     "evalue": "name 'f' is not defined",
     "output_type": "error",
     "traceback": [
      "\u001b[0;31m---------------------------------------------------------------------------\u001b[0m",
      "\u001b[0;31mNameError\u001b[0m                                 Traceback (most recent call last)",
      "\u001b[0;32m<ipython-input-1-4c2ddc297855>\u001b[0m in \u001b[0;36m<module>\u001b[0;34m()\u001b[0m\n\u001b[0;32m----> 1\u001b[0;31m \u001b[0mf\u001b[0m\u001b[0;34m[\u001b[0m\u001b[0;34m'separableconvolution2d_15'\u001b[0m\u001b[0;34m]\u001b[0m\u001b[0;34m[\u001b[0m\u001b[0;34m'separableconvolution2d_15_pointwise_kernel:0'\u001b[0m\u001b[0;34m]\u001b[0m\u001b[0;34m\u001b[0m\u001b[0m\n\u001b[0m",
      "\u001b[0;31mNameError\u001b[0m: name 'f' is not defined"
     ]
    }
   ],
   "source": [
    "f['separableconvolution2d_15']['separableconvolution2d_15_depthwise_kernel:0']"
   ]
  },
  {
   "cell_type": "code",
   "execution_count": null,
   "metadata": {
    "collapsed": true
   },
   "outputs": [],
   "source": [
    "f['separableconvolution2d_15']['separableconvolution2d_15_pointwise_kernel:0']"
   ]
  },
  {
   "cell_type": "code",
   "execution_count": 6,
   "metadata": {
    "collapsed": false
   },
   "outputs": [
    {
     "data": {
      "text/plain": [
       "['convolution2d_1_W:0']"
      ]
     },
     "execution_count": 6,
     "metadata": {},
     "output_type": "execute_result"
    }
   ],
   "source": [
    "list(f['convolution2d_1'].keys())"
   ]
  },
  {
   "cell_type": "code",
   "execution_count": 7,
   "metadata": {
    "collapsed": false
   },
   "outputs": [
    {
     "data": {
      "text/plain": [
       "['batchnormalization_1_beta:0',\n",
       " 'batchnormalization_1_gamma:0',\n",
       " 'batchnormalization_1_running_mean:0',\n",
       " 'batchnormalization_1_running_std:0']"
      ]
     },
     "execution_count": 7,
     "metadata": {},
     "output_type": "execute_result"
    }
   ],
   "source": [
    "list(f['batchnormalization_1'].keys())"
   ]
  },
  {
   "cell_type": "code",
   "execution_count": 8,
   "metadata": {
    "collapsed": false
   },
   "outputs": [
    {
     "name": "stdout",
     "output_type": "stream",
     "text": [
      "[ 0.40758696 -0.98514813 -0.86520571 -0.63649732  0.93134093  0.14324439\n",
      " -0.66179281 -1.51345146 -0.97260857  0.85907674  2.79930234  3.5226903\n",
      "  2.10629082  1.33473647 -1.21424472 -1.23759425 -1.63252246  2.84020543\n",
      "  0.17067833  0.75588095 -1.54264283 -1.03201449 -1.07113349  3.34834623\n",
      " -0.53035581 -1.44746411 -1.16963887 -1.44426501 -1.61292255  2.8850162\n",
      "  2.06397438  0.47504646]\n"
     ]
    }
   ],
   "source": [
    "print(f['batchnormalization_1']['batchnormalization_1_beta:0'][:])"
   ]
  },
  {
   "cell_type": "code",
   "execution_count": 9,
   "metadata": {
    "collapsed": false
   },
   "outputs": [
    {
     "data": {
      "text/plain": [
       "['dense_2_W:0', 'dense_2_b:0']"
      ]
     },
     "execution_count": 9,
     "metadata": {},
     "output_type": "execute_result"
    }
   ],
   "source": [
    "list(f['dense_2'].keys())"
   ]
  },
  {
   "cell_type": "code",
   "execution_count": 12,
   "metadata": {
    "collapsed": true
   },
   "outputs": [],
   "source": [
    "from keras.applications import xception"
   ]
  },
  {
   "cell_type": "code",
   "execution_count": 15,
   "metadata": {
    "collapsed": false
   },
   "outputs": [],
   "source": [
    "model = xception.Xception(include_top=True, weights='imagenet', input_tensor=None)"
   ]
  },
  {
   "cell_type": "code",
   "execution_count": 25,
   "metadata": {
    "collapsed": false,
    "scrolled": false
   },
   "outputs": [
    {
     "name": "stdout",
     "output_type": "stream",
     "text": [
      "____________________________________________________________________________________________________\n",
      "Layer (type)                     Output Shape          Param #     Connected to                     \n",
      "====================================================================================================\n",
      "input_2 (InputLayer)             (None, 299, 299, 3)   0                                            \n",
      "____________________________________________________________________________________________________\n",
      "block1_conv1 (Convolution2D)     (None, 149, 149, 32)  864         input_2[0][0]                    \n",
      "____________________________________________________________________________________________________\n",
      "block1_conv1_bn (BatchNormalizati(None, 149, 149, 32)  64          block1_conv1[0][0]               \n",
      "____________________________________________________________________________________________________\n",
      "block1_conv1_act (Activation)    (None, 149, 149, 32)  0           block1_conv1_bn[0][0]            \n",
      "____________________________________________________________________________________________________\n",
      "block1_conv2 (Convolution2D)     (None, 147, 147, 64)  18432       block1_conv1_act[0][0]           \n",
      "____________________________________________________________________________________________________\n",
      "block1_conv2_bn (BatchNormalizati(None, 147, 147, 64)  128         block1_conv2[0][0]               \n",
      "____________________________________________________________________________________________________\n",
      "block1_conv2_act (Activation)    (None, 147, 147, 64)  0           block1_conv2_bn[0][0]            \n",
      "____________________________________________________________________________________________________\n",
      "block2_sepconv1 (SeparableConvolu(None, 147, 147, 128) 8768        block1_conv2_act[0][0]           \n",
      "____________________________________________________________________________________________________\n",
      "block2_sepconv1_bn (BatchNormaliz(None, 147, 147, 128) 256         block2_sepconv1[0][0]            \n",
      "____________________________________________________________________________________________________\n",
      "block2_sepconv2_act (Activation) (None, 147, 147, 128) 0           block2_sepconv1_bn[0][0]         \n",
      "____________________________________________________________________________________________________\n",
      "block2_sepconv2 (SeparableConvolu(None, 147, 147, 128) 17536       block2_sepconv2_act[0][0]        \n",
      "____________________________________________________________________________________________________\n",
      "block2_sepconv2_bn (BatchNormaliz(None, 147, 147, 128) 256         block2_sepconv2[0][0]            \n",
      "____________________________________________________________________________________________________\n",
      "convolution2d_5 (Convolution2D)  (None, 74, 74, 128)   8192        block1_conv2_act[0][0]           \n",
      "____________________________________________________________________________________________________\n",
      "block2_pool (MaxPooling2D)       (None, 74, 74, 128)   0           block2_sepconv2_bn[0][0]         \n",
      "____________________________________________________________________________________________________\n",
      "batchnormalization_5 (BatchNormal(None, 74, 74, 128)   256         convolution2d_5[0][0]            \n",
      "____________________________________________________________________________________________________\n",
      "merge_13 (Merge)                 (None, 74, 74, 128)   0           block2_pool[0][0]                \n",
      "                                                                   batchnormalization_5[0][0]       \n",
      "____________________________________________________________________________________________________\n",
      "block3_sepconv1_act (Activation) (None, 74, 74, 128)   0           merge_13[0][0]                   \n",
      "____________________________________________________________________________________________________\n",
      "block3_sepconv1 (SeparableConvolu(None, 74, 74, 256)   33920       block3_sepconv1_act[0][0]        \n",
      "____________________________________________________________________________________________________\n",
      "block3_sepconv1_bn (BatchNormaliz(None, 74, 74, 256)   512         block3_sepconv1[0][0]            \n",
      "____________________________________________________________________________________________________\n",
      "block3_sepconv2_act (Activation) (None, 74, 74, 256)   0           block3_sepconv1_bn[0][0]         \n",
      "____________________________________________________________________________________________________\n",
      "block3_sepconv2 (SeparableConvolu(None, 74, 74, 256)   67840       block3_sepconv2_act[0][0]        \n",
      "____________________________________________________________________________________________________\n",
      "block3_sepconv2_bn (BatchNormaliz(None, 74, 74, 256)   512         block3_sepconv2[0][0]            \n",
      "____________________________________________________________________________________________________\n",
      "convolution2d_6 (Convolution2D)  (None, 37, 37, 256)   32768       merge_13[0][0]                   \n",
      "____________________________________________________________________________________________________\n",
      "block3_pool (MaxPooling2D)       (None, 37, 37, 256)   0           block3_sepconv2_bn[0][0]         \n",
      "____________________________________________________________________________________________________\n",
      "batchnormalization_6 (BatchNormal(None, 37, 37, 256)   512         convolution2d_6[0][0]            \n",
      "____________________________________________________________________________________________________\n",
      "merge_14 (Merge)                 (None, 37, 37, 256)   0           block3_pool[0][0]                \n",
      "                                                                   batchnormalization_6[0][0]       \n",
      "____________________________________________________________________________________________________\n",
      "block4_sepconv1_act (Activation) (None, 37, 37, 256)   0           merge_14[0][0]                   \n",
      "____________________________________________________________________________________________________\n",
      "block4_sepconv1 (SeparableConvolu(None, 37, 37, 728)   188672      block4_sepconv1_act[0][0]        \n",
      "____________________________________________________________________________________________________\n",
      "block4_sepconv1_bn (BatchNormaliz(None, 37, 37, 728)   1456        block4_sepconv1[0][0]            \n",
      "____________________________________________________________________________________________________\n",
      "block4_sepconv2_act (Activation) (None, 37, 37, 728)   0           block4_sepconv1_bn[0][0]         \n",
      "____________________________________________________________________________________________________\n",
      "block4_sepconv2 (SeparableConvolu(None, 37, 37, 728)   536536      block4_sepconv2_act[0][0]        \n",
      "____________________________________________________________________________________________________\n",
      "block4_sepconv2_bn (BatchNormaliz(None, 37, 37, 728)   1456        block4_sepconv2[0][0]            \n",
      "____________________________________________________________________________________________________\n",
      "convolution2d_7 (Convolution2D)  (None, 19, 19, 728)   186368      merge_14[0][0]                   \n",
      "____________________________________________________________________________________________________\n",
      "block4_pool (MaxPooling2D)       (None, 19, 19, 728)   0           block4_sepconv2_bn[0][0]         \n",
      "____________________________________________________________________________________________________\n",
      "batchnormalization_7 (BatchNormal(None, 19, 19, 728)   1456        convolution2d_7[0][0]            \n",
      "____________________________________________________________________________________________________\n",
      "merge_15 (Merge)                 (None, 19, 19, 728)   0           block4_pool[0][0]                \n",
      "                                                                   batchnormalization_7[0][0]       \n",
      "____________________________________________________________________________________________________\n",
      "block5_sepconv1_act (Activation) (None, 19, 19, 728)   0           merge_15[0][0]                   \n",
      "____________________________________________________________________________________________________\n",
      "block5_sepconv1 (SeparableConvolu(None, 19, 19, 728)   536536      block5_sepconv1_act[0][0]        \n",
      "____________________________________________________________________________________________________\n",
      "block5_sepconv1_bn (BatchNormaliz(None, 19, 19, 728)   1456        block5_sepconv1[0][0]            \n",
      "____________________________________________________________________________________________________\n",
      "block5_sepconv2_act (Activation) (None, 19, 19, 728)   0           block5_sepconv1_bn[0][0]         \n",
      "____________________________________________________________________________________________________\n",
      "block5_sepconv2 (SeparableConvolu(None, 19, 19, 728)   536536      block5_sepconv2_act[0][0]        \n",
      "____________________________________________________________________________________________________\n",
      "block5_sepconv2_bn (BatchNormaliz(None, 19, 19, 728)   1456        block5_sepconv2[0][0]            \n",
      "____________________________________________________________________________________________________\n",
      "block5_sepconv3_act (Activation) (None, 19, 19, 728)   0           block5_sepconv2_bn[0][0]         \n",
      "____________________________________________________________________________________________________\n",
      "block5_sepconv3 (SeparableConvolu(None, 19, 19, 728)   536536      block5_sepconv3_act[0][0]        \n",
      "____________________________________________________________________________________________________\n",
      "block5_sepconv3_bn (BatchNormaliz(None, 19, 19, 728)   1456        block5_sepconv3[0][0]            \n",
      "____________________________________________________________________________________________________\n",
      "merge_16 (Merge)                 (None, 19, 19, 728)   0           block5_sepconv3_bn[0][0]         \n",
      "                                                                   merge_15[0][0]                   \n",
      "____________________________________________________________________________________________________\n",
      "block6_sepconv1_act (Activation) (None, 19, 19, 728)   0           merge_16[0][0]                   \n",
      "____________________________________________________________________________________________________\n",
      "block6_sepconv1 (SeparableConvolu(None, 19, 19, 728)   536536      block6_sepconv1_act[0][0]        \n",
      "____________________________________________________________________________________________________\n",
      "block6_sepconv1_bn (BatchNormaliz(None, 19, 19, 728)   1456        block6_sepconv1[0][0]            \n",
      "____________________________________________________________________________________________________\n",
      "block6_sepconv2_act (Activation) (None, 19, 19, 728)   0           block6_sepconv1_bn[0][0]         \n",
      "____________________________________________________________________________________________________\n",
      "block6_sepconv2 (SeparableConvolu(None, 19, 19, 728)   536536      block6_sepconv2_act[0][0]        \n",
      "____________________________________________________________________________________________________\n",
      "block6_sepconv2_bn (BatchNormaliz(None, 19, 19, 728)   1456        block6_sepconv2[0][0]            \n",
      "____________________________________________________________________________________________________\n",
      "block6_sepconv3_act (Activation) (None, 19, 19, 728)   0           block6_sepconv2_bn[0][0]         \n",
      "____________________________________________________________________________________________________\n",
      "block6_sepconv3 (SeparableConvolu(None, 19, 19, 728)   536536      block6_sepconv3_act[0][0]        \n",
      "____________________________________________________________________________________________________\n",
      "block6_sepconv3_bn (BatchNormaliz(None, 19, 19, 728)   1456        block6_sepconv3[0][0]            \n",
      "____________________________________________________________________________________________________\n",
      "merge_17 (Merge)                 (None, 19, 19, 728)   0           block6_sepconv3_bn[0][0]         \n",
      "                                                                   merge_16[0][0]                   \n",
      "____________________________________________________________________________________________________\n",
      "block7_sepconv1_act (Activation) (None, 19, 19, 728)   0           merge_17[0][0]                   \n",
      "____________________________________________________________________________________________________\n",
      "block7_sepconv1 (SeparableConvolu(None, 19, 19, 728)   536536      block7_sepconv1_act[0][0]        \n",
      "____________________________________________________________________________________________________\n",
      "block7_sepconv1_bn (BatchNormaliz(None, 19, 19, 728)   1456        block7_sepconv1[0][0]            \n",
      "____________________________________________________________________________________________________\n",
      "block7_sepconv2_act (Activation) (None, 19, 19, 728)   0           block7_sepconv1_bn[0][0]         \n",
      "____________________________________________________________________________________________________\n",
      "block7_sepconv2 (SeparableConvolu(None, 19, 19, 728)   536536      block7_sepconv2_act[0][0]        \n",
      "____________________________________________________________________________________________________\n",
      "block7_sepconv2_bn (BatchNormaliz(None, 19, 19, 728)   1456        block7_sepconv2[0][0]            \n",
      "____________________________________________________________________________________________________\n",
      "block7_sepconv3_act (Activation) (None, 19, 19, 728)   0           block7_sepconv2_bn[0][0]         \n",
      "____________________________________________________________________________________________________\n",
      "block7_sepconv3 (SeparableConvolu(None, 19, 19, 728)   536536      block7_sepconv3_act[0][0]        \n",
      "____________________________________________________________________________________________________\n",
      "block7_sepconv3_bn (BatchNormaliz(None, 19, 19, 728)   1456        block7_sepconv3[0][0]            \n",
      "____________________________________________________________________________________________________\n",
      "merge_18 (Merge)                 (None, 19, 19, 728)   0           block7_sepconv3_bn[0][0]         \n",
      "                                                                   merge_17[0][0]                   \n",
      "____________________________________________________________________________________________________\n",
      "block8_sepconv1_act (Activation) (None, 19, 19, 728)   0           merge_18[0][0]                   \n",
      "____________________________________________________________________________________________________\n",
      "block8_sepconv1 (SeparableConvolu(None, 19, 19, 728)   536536      block8_sepconv1_act[0][0]        \n",
      "____________________________________________________________________________________________________\n",
      "block8_sepconv1_bn (BatchNormaliz(None, 19, 19, 728)   1456        block8_sepconv1[0][0]            \n",
      "____________________________________________________________________________________________________\n",
      "block8_sepconv2_act (Activation) (None, 19, 19, 728)   0           block8_sepconv1_bn[0][0]         \n",
      "____________________________________________________________________________________________________\n",
      "block8_sepconv2 (SeparableConvolu(None, 19, 19, 728)   536536      block8_sepconv2_act[0][0]        \n",
      "____________________________________________________________________________________________________\n",
      "block8_sepconv2_bn (BatchNormaliz(None, 19, 19, 728)   1456        block8_sepconv2[0][0]            \n",
      "____________________________________________________________________________________________________\n",
      "block8_sepconv3_act (Activation) (None, 19, 19, 728)   0           block8_sepconv2_bn[0][0]         \n",
      "____________________________________________________________________________________________________\n",
      "block8_sepconv3 (SeparableConvolu(None, 19, 19, 728)   536536      block8_sepconv3_act[0][0]        \n",
      "____________________________________________________________________________________________________\n",
      "block8_sepconv3_bn (BatchNormaliz(None, 19, 19, 728)   1456        block8_sepconv3[0][0]            \n",
      "____________________________________________________________________________________________________\n",
      "merge_19 (Merge)                 (None, 19, 19, 728)   0           block8_sepconv3_bn[0][0]         \n",
      "                                                                   merge_18[0][0]                   \n",
      "____________________________________________________________________________________________________\n",
      "block9_sepconv1_act (Activation) (None, 19, 19, 728)   0           merge_19[0][0]                   \n",
      "____________________________________________________________________________________________________\n",
      "block9_sepconv1 (SeparableConvolu(None, 19, 19, 728)   536536      block9_sepconv1_act[0][0]        \n",
      "____________________________________________________________________________________________________\n",
      "block9_sepconv1_bn (BatchNormaliz(None, 19, 19, 728)   1456        block9_sepconv1[0][0]            \n",
      "____________________________________________________________________________________________________\n",
      "block9_sepconv2_act (Activation) (None, 19, 19, 728)   0           block9_sepconv1_bn[0][0]         \n",
      "____________________________________________________________________________________________________\n",
      "block9_sepconv2 (SeparableConvolu(None, 19, 19, 728)   536536      block9_sepconv2_act[0][0]        \n",
      "____________________________________________________________________________________________________\n",
      "block9_sepconv2_bn (BatchNormaliz(None, 19, 19, 728)   1456        block9_sepconv2[0][0]            \n",
      "____________________________________________________________________________________________________\n",
      "block9_sepconv3_act (Activation) (None, 19, 19, 728)   0           block9_sepconv2_bn[0][0]         \n",
      "____________________________________________________________________________________________________\n",
      "block9_sepconv3 (SeparableConvolu(None, 19, 19, 728)   536536      block9_sepconv3_act[0][0]        \n",
      "____________________________________________________________________________________________________\n",
      "block9_sepconv3_bn (BatchNormaliz(None, 19, 19, 728)   1456        block9_sepconv3[0][0]            \n",
      "____________________________________________________________________________________________________\n",
      "merge_20 (Merge)                 (None, 19, 19, 728)   0           block9_sepconv3_bn[0][0]         \n",
      "                                                                   merge_19[0][0]                   \n",
      "____________________________________________________________________________________________________\n",
      "block10_sepconv1_act (Activation)(None, 19, 19, 728)   0           merge_20[0][0]                   \n",
      "____________________________________________________________________________________________________\n",
      "block10_sepconv1 (SeparableConvol(None, 19, 19, 728)   536536      block10_sepconv1_act[0][0]       \n",
      "____________________________________________________________________________________________________\n",
      "block10_sepconv1_bn (BatchNormali(None, 19, 19, 728)   1456        block10_sepconv1[0][0]           \n",
      "____________________________________________________________________________________________________\n",
      "block10_sepconv2_act (Activation)(None, 19, 19, 728)   0           block10_sepconv1_bn[0][0]        \n",
      "____________________________________________________________________________________________________\n",
      "block10_sepconv2 (SeparableConvol(None, 19, 19, 728)   536536      block10_sepconv2_act[0][0]       \n",
      "____________________________________________________________________________________________________\n",
      "block10_sepconv2_bn (BatchNormali(None, 19, 19, 728)   1456        block10_sepconv2[0][0]           \n",
      "____________________________________________________________________________________________________\n",
      "block10_sepconv3_act (Activation)(None, 19, 19, 728)   0           block10_sepconv2_bn[0][0]        \n",
      "____________________________________________________________________________________________________\n",
      "block10_sepconv3 (SeparableConvol(None, 19, 19, 728)   536536      block10_sepconv3_act[0][0]       \n",
      "____________________________________________________________________________________________________\n",
      "block10_sepconv3_bn (BatchNormali(None, 19, 19, 728)   1456        block10_sepconv3[0][0]           \n",
      "____________________________________________________________________________________________________\n",
      "merge_21 (Merge)                 (None, 19, 19, 728)   0           block10_sepconv3_bn[0][0]        \n",
      "                                                                   merge_20[0][0]                   \n",
      "____________________________________________________________________________________________________\n",
      "block11_sepconv1_act (Activation)(None, 19, 19, 728)   0           merge_21[0][0]                   \n",
      "____________________________________________________________________________________________________\n",
      "block11_sepconv1 (SeparableConvol(None, 19, 19, 728)   536536      block11_sepconv1_act[0][0]       \n",
      "____________________________________________________________________________________________________\n",
      "block11_sepconv1_bn (BatchNormali(None, 19, 19, 728)   1456        block11_sepconv1[0][0]           \n",
      "____________________________________________________________________________________________________\n",
      "block11_sepconv2_act (Activation)(None, 19, 19, 728)   0           block11_sepconv1_bn[0][0]        \n",
      "____________________________________________________________________________________________________\n",
      "block11_sepconv2 (SeparableConvol(None, 19, 19, 728)   536536      block11_sepconv2_act[0][0]       \n",
      "____________________________________________________________________________________________________\n",
      "block11_sepconv2_bn (BatchNormali(None, 19, 19, 728)   1456        block11_sepconv2[0][0]           \n",
      "____________________________________________________________________________________________________\n",
      "block11_sepconv3_act (Activation)(None, 19, 19, 728)   0           block11_sepconv2_bn[0][0]        \n",
      "____________________________________________________________________________________________________\n",
      "block11_sepconv3 (SeparableConvol(None, 19, 19, 728)   536536      block11_sepconv3_act[0][0]       \n",
      "____________________________________________________________________________________________________\n",
      "block11_sepconv3_bn (BatchNormali(None, 19, 19, 728)   1456        block11_sepconv3[0][0]           \n",
      "____________________________________________________________________________________________________\n",
      "merge_22 (Merge)                 (None, 19, 19, 728)   0           block11_sepconv3_bn[0][0]        \n",
      "                                                                   merge_21[0][0]                   \n",
      "____________________________________________________________________________________________________\n",
      "block12_sepconv1_act (Activation)(None, 19, 19, 728)   0           merge_22[0][0]                   \n",
      "____________________________________________________________________________________________________\n",
      "block12_sepconv1 (SeparableConvol(None, 19, 19, 728)   536536      block12_sepconv1_act[0][0]       \n",
      "____________________________________________________________________________________________________\n",
      "block12_sepconv1_bn (BatchNormali(None, 19, 19, 728)   1456        block12_sepconv1[0][0]           \n",
      "____________________________________________________________________________________________________\n",
      "block12_sepconv2_act (Activation)(None, 19, 19, 728)   0           block12_sepconv1_bn[0][0]        \n",
      "____________________________________________________________________________________________________\n",
      "block12_sepconv2 (SeparableConvol(None, 19, 19, 728)   536536      block12_sepconv2_act[0][0]       \n",
      "____________________________________________________________________________________________________\n",
      "block12_sepconv2_bn (BatchNormali(None, 19, 19, 728)   1456        block12_sepconv2[0][0]           \n",
      "____________________________________________________________________________________________________\n",
      "block12_sepconv3_act (Activation)(None, 19, 19, 728)   0           block12_sepconv2_bn[0][0]        \n",
      "____________________________________________________________________________________________________\n",
      "block12_sepconv3 (SeparableConvol(None, 19, 19, 728)   536536      block12_sepconv3_act[0][0]       \n",
      "____________________________________________________________________________________________________\n",
      "block12_sepconv3_bn (BatchNormali(None, 19, 19, 728)   1456        block12_sepconv3[0][0]           \n",
      "____________________________________________________________________________________________________\n",
      "merge_23 (Merge)                 (None, 19, 19, 728)   0           block12_sepconv3_bn[0][0]        \n",
      "                                                                   merge_22[0][0]                   \n",
      "____________________________________________________________________________________________________\n",
      "block13_sepconv1_act (Activation)(None, 19, 19, 728)   0           merge_23[0][0]                   \n",
      "____________________________________________________________________________________________________\n",
      "block13_sepconv1 (SeparableConvol(None, 19, 19, 728)   536536      block13_sepconv1_act[0][0]       \n",
      "____________________________________________________________________________________________________\n",
      "block13_sepconv1_bn (BatchNormali(None, 19, 19, 728)   1456        block13_sepconv1[0][0]           \n",
      "____________________________________________________________________________________________________\n",
      "block13_sepconv2_act (Activation)(None, 19, 19, 728)   0           block13_sepconv1_bn[0][0]        \n",
      "____________________________________________________________________________________________________\n",
      "block13_sepconv2 (SeparableConvol(None, 19, 19, 1024)  752024      block13_sepconv2_act[0][0]       \n",
      "____________________________________________________________________________________________________\n",
      "block13_sepconv2_bn (BatchNormali(None, 19, 19, 1024)  2048        block13_sepconv2[0][0]           \n",
      "____________________________________________________________________________________________________\n",
      "convolution2d_8 (Convolution2D)  (None, 10, 10, 1024)  745472      merge_23[0][0]                   \n",
      "____________________________________________________________________________________________________\n",
      "block13_pool (MaxPooling2D)      (None, 10, 10, 1024)  0           block13_sepconv2_bn[0][0]        \n",
      "____________________________________________________________________________________________________\n",
      "batchnormalization_8 (BatchNormal(None, 10, 10, 1024)  2048        convolution2d_8[0][0]            \n",
      "____________________________________________________________________________________________________\n",
      "merge_24 (Merge)                 (None, 10, 10, 1024)  0           block13_pool[0][0]               \n",
      "                                                                   batchnormalization_8[0][0]       \n",
      "____________________________________________________________________________________________________\n",
      "block14_sepconv1 (SeparableConvol(None, 10, 10, 1536)  1582080     merge_24[0][0]                   \n",
      "____________________________________________________________________________________________________\n",
      "block14_sepconv1_bn (BatchNormali(None, 10, 10, 1536)  3072        block14_sepconv1[0][0]           \n",
      "____________________________________________________________________________________________________\n",
      "block14_sepconv1_act (Activation)(None, 10, 10, 1536)  0           block14_sepconv1_bn[0][0]        \n",
      "____________________________________________________________________________________________________\n",
      "block14_sepconv2 (SeparableConvol(None, 10, 10, 2048)  3159552     block14_sepconv1_act[0][0]       \n",
      "____________________________________________________________________________________________________\n",
      "block14_sepconv2_bn (BatchNormali(None, 10, 10, 2048)  4096        block14_sepconv2[0][0]           \n",
      "____________________________________________________________________________________________________\n",
      "block14_sepconv2_act (Activation)(None, 10, 10, 2048)  0           block14_sepconv2_bn[0][0]        \n",
      "____________________________________________________________________________________________________\n",
      "avg_pool (GlobalAveragePooling2D)(None, 2048)          0           block14_sepconv2_act[0][0]       \n",
      "____________________________________________________________________________________________________\n",
      "predictions (Dense)              (None, 1000)          2049000     avg_pool[0][0]                   \n",
      "====================================================================================================\n",
      "Total params: 22855952\n",
      "____________________________________________________________________________________________________\n",
      "None\n"
     ]
    }
   ],
   "source": [
    "print(model.summary())"
   ]
  },
  {
   "cell_type": "code",
   "execution_count": null,
   "metadata": {
    "collapsed": false
   },
   "outputs": [],
   "source": []
  },
  {
   "cell_type": "code",
   "execution_count": null,
   "metadata": {
    "collapsed": false
   },
   "outputs": [],
   "source": []
  },
  {
   "cell_type": "code",
   "execution_count": null,
   "metadata": {
    "collapsed": true
   },
   "outputs": [],
   "source": []
  }
 ],
 "metadata": {
  "anaconda-cloud": {},
  "kernelspec": {
   "display_name": "Python [conda env:tensorflow]",
   "language": "python",
   "name": "conda-env-tensorflow-py"
  },
  "language_info": {
   "codemirror_mode": {
    "name": "ipython",
    "version": 3
   },
   "file_extension": ".py",
   "mimetype": "text/x-python",
   "name": "python",
   "nbconvert_exporter": "python",
   "pygments_lexer": "ipython3",
   "version": "3.5.2"
  }
 },
 "nbformat": 4,
 "nbformat_minor": 2
}
